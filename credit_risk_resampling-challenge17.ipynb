{
 "cells": [
  {
   "cell_type": "markdown",
   "metadata": {},
   "source": [
    "# Credit Risk Resampling Techniques"
   ]
  },
  {
   "cell_type": "code",
   "execution_count": 36,
   "metadata": {},
   "outputs": [],
   "source": [
    "import warnings\n",
    "warnings.filterwarnings('ignore')"
   ]
  },
  {
   "cell_type": "code",
   "execution_count": 37,
   "metadata": {},
   "outputs": [],
   "source": [
    "import numpy as np\n",
    "import pandas as pd\n",
    "from pathlib import Path\n",
    "from collections import Counter"
   ]
  },
  {
   "cell_type": "markdown",
   "metadata": {},
   "source": [
    "# Read the CSV and Perform Basic Data Cleaning"
   ]
  },
  {
   "cell_type": "code",
   "execution_count": 38,
   "metadata": {},
   "outputs": [],
   "source": [
    "columns = [\n",
    "    \"loan_amnt\", \"int_rate\", \"installment\", \"home_ownership\",\n",
    "    \"annual_inc\", \"verification_status\", \"issue_d\", \"loan_status\",\n",
    "    \"pymnt_plan\", \"dti\", \"delinq_2yrs\", \"inq_last_6mths\",\n",
    "    \"open_acc\", \"pub_rec\", \"revol_bal\", \"total_acc\",\n",
    "    \"initial_list_status\", \"out_prncp\", \"out_prncp_inv\", \"total_pymnt\",\n",
    "    \"total_pymnt_inv\", \"total_rec_prncp\", \"total_rec_int\", \"total_rec_late_fee\",\n",
    "    \"recoveries\", \"collection_recovery_fee\", \"last_pymnt_amnt\", \"next_pymnt_d\",\n",
    "    \"collections_12_mths_ex_med\", \"policy_code\", \"application_type\", \"acc_now_delinq\",\n",
    "    \"tot_coll_amt\", \"tot_cur_bal\", \"open_acc_6m\", \"open_act_il\",\n",
    "    \"open_il_12m\", \"open_il_24m\", \"mths_since_rcnt_il\", \"total_bal_il\",\n",
    "    \"il_util\", \"open_rv_12m\", \"open_rv_24m\", \"max_bal_bc\",\n",
    "    \"all_util\", \"total_rev_hi_lim\", \"inq_fi\", \"total_cu_tl\",\n",
    "    \"inq_last_12m\", \"acc_open_past_24mths\", \"avg_cur_bal\", \"bc_open_to_buy\",\n",
    "    \"bc_util\", \"chargeoff_within_12_mths\", \"delinq_amnt\", \"mo_sin_old_il_acct\",\n",
    "    \"mo_sin_old_rev_tl_op\", \"mo_sin_rcnt_rev_tl_op\", \"mo_sin_rcnt_tl\", \"mort_acc\",\n",
    "    \"mths_since_recent_bc\", \"mths_since_recent_inq\", \"num_accts_ever_120_pd\", \"num_actv_bc_tl\",\n",
    "    \"num_actv_rev_tl\", \"num_bc_sats\", \"num_bc_tl\", \"num_il_tl\",\n",
    "    \"num_op_rev_tl\", \"num_rev_accts\", \"num_rev_tl_bal_gt_0\",\n",
    "    \"num_sats\", \"num_tl_120dpd_2m\", \"num_tl_30dpd\", \"num_tl_90g_dpd_24m\",\n",
    "    \"num_tl_op_past_12m\", \"pct_tl_nvr_dlq\", \"percent_bc_gt_75\", \"pub_rec_bankruptcies\",\n",
    "    \"tax_liens\", \"tot_hi_cred_lim\", \"total_bal_ex_mort\", \"total_bc_limit\",\n",
    "    \"total_il_high_credit_limit\", \"hardship_flag\", \"debt_settlement_flag\"\n",
    "]\n",
    "\n",
    "target = [\"loan_status\"]"
   ]
  },
  {
   "cell_type": "code",
   "execution_count": 39,
   "metadata": {},
   "outputs": [
    {
     "output_type": "execute_result",
     "data": {
      "text/plain": "   loan_amnt  int_rate  installment home_ownership  annual_inc  \\\n0    10500.0    0.1719       375.35           RENT     66000.0   \n1    25000.0    0.2000       929.09       MORTGAGE    105000.0   \n2    20000.0    0.2000       529.88       MORTGAGE     56000.0   \n3    10000.0    0.1640       353.55           RENT     92000.0   \n4    22000.0    0.1474       520.39       MORTGAGE     52000.0   \n\n  verification_status   issue_d loan_status pymnt_plan    dti  delinq_2yrs  \\\n0     Source Verified  Mar-2019    low_risk          n  27.24          0.0   \n1            Verified  Mar-2019    low_risk          n  20.23          0.0   \n2            Verified  Mar-2019    low_risk          n  24.26          0.0   \n3            Verified  Mar-2019    low_risk          n  31.44          0.0   \n4        Not Verified  Mar-2019    low_risk          n  18.76          0.0   \n\n   inq_last_6mths  open_acc  pub_rec  revol_bal  total_acc  \\\n0             0.0       8.0      0.0     1609.0       14.0   \n1             0.0      17.0      1.0    18368.0       34.0   \n2             0.0       8.0      0.0    13247.0       21.0   \n3             1.0      10.0      1.0    17996.0       23.0   \n4             1.0      14.0      0.0     9091.0       28.0   \n\n  initial_list_status  out_prncp  out_prncp_inv  total_pymnt  total_pymnt_inv  \\\n0                   w   10204.87       10204.87       355.29           355.29   \n1                   w   24293.13       24293.13       873.53           873.53   \n2                   w   19636.79       19636.79       485.44           485.44   \n3                   w    9719.34        9719.34       335.33           335.33   \n4                   w   21614.73       21614.73       484.36           484.36   \n\n   total_rec_prncp  total_rec_int  total_rec_late_fee  recoveries  \\\n0           295.13          60.16                 0.0         0.0   \n1           706.87         166.66                 0.0         0.0   \n2           363.21         122.23                 0.0         0.0   \n3           280.66          54.67                 0.0         0.0   \n4           385.27          99.09                 0.0         0.0   \n\n   collection_recovery_fee  last_pymnt_amnt next_pymnt_d  \\\n0                      0.0           375.35     May-2019   \n1                      0.0           929.09     May-2019   \n2                      0.0           529.88     May-2019   \n3                      0.0           353.55     May-2019   \n4                      0.0           520.39     May-2019   \n\n   collections_12_mths_ex_med  policy_code application_type  acc_now_delinq  \\\n0                         0.0          1.0       Individual             0.0   \n1                         0.0          1.0       Individual             0.0   \n2                         0.0          1.0       Individual             0.0   \n3                         0.0          1.0       Individual             0.0   \n4                         0.0          1.0       Individual             0.0   \n\n   tot_coll_amt  tot_cur_bal  open_acc_6m  open_act_il  open_il_12m  \\\n0         178.0      38199.0          3.0          4.0          2.0   \n1         165.0     228119.0          3.0          3.0          2.0   \n2           0.0      45684.0          2.0          3.0          2.0   \n3           0.0      68784.0          0.0          4.0          1.0   \n4           0.0     177745.0          0.0          1.0          0.0   \n\n   open_il_24m  mths_since_rcnt_il  total_bal_il  il_util  open_rv_12m  \\\n0          4.0                 3.0       36590.0     59.0          1.0   \n1          3.0                 4.0       42273.0     86.0          4.0   \n2          3.0                 4.0       32437.0     75.0          2.0   \n3          3.0                 9.0       50788.0     66.0          0.0   \n4          2.0                14.0       16828.0     84.0          1.0   \n\n   open_rv_24m  max_bal_bc  all_util  total_rev_hi_lim  inq_fi  total_cu_tl  \\\n0          2.0      1553.0      58.0            3700.0     1.0          0.0   \n1          8.0      5197.0      61.0           50400.0     4.0          9.0   \n2          3.0      2810.0      75.0           17500.0     0.0          4.0   \n3          1.0      6360.0      69.0           23000.0     3.0          5.0   \n4          1.0      3600.0      41.0           43100.0     2.0          0.0   \n\n   inq_last_12m  acc_open_past_24mths  avg_cur_bal  bc_open_to_buy  bc_util  \\\n0           4.0                   6.0       4775.0           447.0     77.7   \n1           3.0                  13.0      13419.0         29502.0     28.4   \n2           1.0                   6.0       5711.0          2839.0     62.1   \n3           4.0                   4.0       6878.0          4899.0     75.1   \n4           2.0                   4.0      13673.0         19699.0     28.6   \n\n   chargeoff_within_12_mths  delinq_amnt  mo_sin_old_il_acct  \\\n0                       0.0          0.0                93.0   \n1                       0.0          0.0                87.0   \n2                       0.0          0.0               159.0   \n3                       0.0          0.0               100.0   \n4                       0.0          0.0                67.0   \n\n   mo_sin_old_rev_tl_op  mo_sin_rcnt_rev_tl_op  mo_sin_rcnt_tl  mort_acc  \\\n0                  96.0                    3.0             3.0       0.0   \n1                 286.0                    1.0             1.0       2.0   \n2                 156.0                    7.0             4.0       0.0   \n3                  89.0                   24.0             9.0       0.0   \n4                 138.0                   11.0            11.0       4.0   \n\n   mths_since_recent_bc  mths_since_recent_inq  num_accts_ever_120_pd  \\\n0                  20.0                    1.0                    0.0   \n1                   1.0                   11.0                    3.0   \n2                   7.0                    7.0                    6.0   \n3                  34.0                    0.0                    0.0   \n4                  11.0                    0.0                    0.0   \n\n   num_actv_bc_tl  num_actv_rev_tl  num_bc_sats  num_bc_tl  num_il_tl  \\\n0             1.0              2.0          1.0        1.0       10.0   \n1             7.0             11.0          8.0       13.0       14.0   \n2             2.0              5.0          2.0        7.0        8.0   \n3             4.0              6.0          4.0        4.0       17.0   \n4             4.0              6.0          7.0       11.0        6.0   \n\n   num_op_rev_tl  num_rev_accts  num_rev_tl_bal_gt_0  num_sats  \\\n0            3.0            3.0                  2.0       8.0   \n1           13.0           18.0                 11.0      17.0   \n2            5.0           13.0                  5.0       8.0   \n3            6.0            6.0                  6.0      10.0   \n4           12.0           18.0                  6.0      14.0   \n\n   num_tl_120dpd_2m  num_tl_30dpd  num_tl_90g_dpd_24m  num_tl_op_past_12m  \\\n0               0.0           0.0                 0.0                 3.0   \n1               0.0           0.0                 0.0                 6.0   \n2               0.0           0.0                 0.0                 4.0   \n3               0.0           0.0                 0.0                 1.0   \n4               0.0           0.0                 0.0                 1.0   \n\n   pct_tl_nvr_dlq  percent_bc_gt_75  pub_rec_bankruptcies  tax_liens  \\\n0            85.7             100.0                   0.0        0.0   \n1            91.2              50.0                   1.0        0.0   \n2            66.7              50.0                   0.0        0.0   \n3           100.0              50.0                   1.0        0.0   \n4           100.0               0.0                   0.0        0.0   \n\n   tot_hi_cred_lim  total_bal_ex_mort  total_bc_limit  \\\n0          65687.0            38199.0          2000.0   \n1         271427.0            60641.0         41200.0   \n2          60644.0            45684.0          7500.0   \n3          99506.0            68784.0         19700.0   \n4         219750.0            25919.0         27600.0   \n\n   total_il_high_credit_limit hardship_flag debt_settlement_flag  \n0                     61987.0             N                    N  \n1                     49197.0             N                    N  \n2                     43144.0             N                    N  \n3                     76506.0             N                    N  \n4                     20000.0             N                    N  ",
      "text/html": "<div>\n<style scoped>\n    .dataframe tbody tr th:only-of-type {\n        vertical-align: middle;\n    }\n\n    .dataframe tbody tr th {\n        vertical-align: top;\n    }\n\n    .dataframe thead th {\n        text-align: right;\n    }\n</style>\n<table border=\"1\" class=\"dataframe\">\n  <thead>\n    <tr style=\"text-align: right;\">\n      <th></th>\n      <th>loan_amnt</th>\n      <th>int_rate</th>\n      <th>installment</th>\n      <th>home_ownership</th>\n      <th>annual_inc</th>\n      <th>verification_status</th>\n      <th>issue_d</th>\n      <th>loan_status</th>\n      <th>pymnt_plan</th>\n      <th>dti</th>\n      <th>delinq_2yrs</th>\n      <th>inq_last_6mths</th>\n      <th>open_acc</th>\n      <th>pub_rec</th>\n      <th>revol_bal</th>\n      <th>total_acc</th>\n      <th>initial_list_status</th>\n      <th>out_prncp</th>\n      <th>out_prncp_inv</th>\n      <th>total_pymnt</th>\n      <th>total_pymnt_inv</th>\n      <th>total_rec_prncp</th>\n      <th>total_rec_int</th>\n      <th>total_rec_late_fee</th>\n      <th>recoveries</th>\n      <th>collection_recovery_fee</th>\n      <th>last_pymnt_amnt</th>\n      <th>next_pymnt_d</th>\n      <th>collections_12_mths_ex_med</th>\n      <th>policy_code</th>\n      <th>application_type</th>\n      <th>acc_now_delinq</th>\n      <th>tot_coll_amt</th>\n      <th>tot_cur_bal</th>\n      <th>open_acc_6m</th>\n      <th>open_act_il</th>\n      <th>open_il_12m</th>\n      <th>open_il_24m</th>\n      <th>mths_since_rcnt_il</th>\n      <th>total_bal_il</th>\n      <th>il_util</th>\n      <th>open_rv_12m</th>\n      <th>open_rv_24m</th>\n      <th>max_bal_bc</th>\n      <th>all_util</th>\n      <th>total_rev_hi_lim</th>\n      <th>inq_fi</th>\n      <th>total_cu_tl</th>\n      <th>inq_last_12m</th>\n      <th>acc_open_past_24mths</th>\n      <th>avg_cur_bal</th>\n      <th>bc_open_to_buy</th>\n      <th>bc_util</th>\n      <th>chargeoff_within_12_mths</th>\n      <th>delinq_amnt</th>\n      <th>mo_sin_old_il_acct</th>\n      <th>mo_sin_old_rev_tl_op</th>\n      <th>mo_sin_rcnt_rev_tl_op</th>\n      <th>mo_sin_rcnt_tl</th>\n      <th>mort_acc</th>\n      <th>mths_since_recent_bc</th>\n      <th>mths_since_recent_inq</th>\n      <th>num_accts_ever_120_pd</th>\n      <th>num_actv_bc_tl</th>\n      <th>num_actv_rev_tl</th>\n      <th>num_bc_sats</th>\n      <th>num_bc_tl</th>\n      <th>num_il_tl</th>\n      <th>num_op_rev_tl</th>\n      <th>num_rev_accts</th>\n      <th>num_rev_tl_bal_gt_0</th>\n      <th>num_sats</th>\n      <th>num_tl_120dpd_2m</th>\n      <th>num_tl_30dpd</th>\n      <th>num_tl_90g_dpd_24m</th>\n      <th>num_tl_op_past_12m</th>\n      <th>pct_tl_nvr_dlq</th>\n      <th>percent_bc_gt_75</th>\n      <th>pub_rec_bankruptcies</th>\n      <th>tax_liens</th>\n      <th>tot_hi_cred_lim</th>\n      <th>total_bal_ex_mort</th>\n      <th>total_bc_limit</th>\n      <th>total_il_high_credit_limit</th>\n      <th>hardship_flag</th>\n      <th>debt_settlement_flag</th>\n    </tr>\n  </thead>\n  <tbody>\n    <tr>\n      <th>0</th>\n      <td>10500.0</td>\n      <td>0.1719</td>\n      <td>375.35</td>\n      <td>RENT</td>\n      <td>66000.0</td>\n      <td>Source Verified</td>\n      <td>Mar-2019</td>\n      <td>low_risk</td>\n      <td>n</td>\n      <td>27.24</td>\n      <td>0.0</td>\n      <td>0.0</td>\n      <td>8.0</td>\n      <td>0.0</td>\n      <td>1609.0</td>\n      <td>14.0</td>\n      <td>w</td>\n      <td>10204.87</td>\n      <td>10204.87</td>\n      <td>355.29</td>\n      <td>355.29</td>\n      <td>295.13</td>\n      <td>60.16</td>\n      <td>0.0</td>\n      <td>0.0</td>\n      <td>0.0</td>\n      <td>375.35</td>\n      <td>May-2019</td>\n      <td>0.0</td>\n      <td>1.0</td>\n      <td>Individual</td>\n      <td>0.0</td>\n      <td>178.0</td>\n      <td>38199.0</td>\n      <td>3.0</td>\n      <td>4.0</td>\n      <td>2.0</td>\n      <td>4.0</td>\n      <td>3.0</td>\n      <td>36590.0</td>\n      <td>59.0</td>\n      <td>1.0</td>\n      <td>2.0</td>\n      <td>1553.0</td>\n      <td>58.0</td>\n      <td>3700.0</td>\n      <td>1.0</td>\n      <td>0.0</td>\n      <td>4.0</td>\n      <td>6.0</td>\n      <td>4775.0</td>\n      <td>447.0</td>\n      <td>77.7</td>\n      <td>0.0</td>\n      <td>0.0</td>\n      <td>93.0</td>\n      <td>96.0</td>\n      <td>3.0</td>\n      <td>3.0</td>\n      <td>0.0</td>\n      <td>20.0</td>\n      <td>1.0</td>\n      <td>0.0</td>\n      <td>1.0</td>\n      <td>2.0</td>\n      <td>1.0</td>\n      <td>1.0</td>\n      <td>10.0</td>\n      <td>3.0</td>\n      <td>3.0</td>\n      <td>2.0</td>\n      <td>8.0</td>\n      <td>0.0</td>\n      <td>0.0</td>\n      <td>0.0</td>\n      <td>3.0</td>\n      <td>85.7</td>\n      <td>100.0</td>\n      <td>0.0</td>\n      <td>0.0</td>\n      <td>65687.0</td>\n      <td>38199.0</td>\n      <td>2000.0</td>\n      <td>61987.0</td>\n      <td>N</td>\n      <td>N</td>\n    </tr>\n    <tr>\n      <th>1</th>\n      <td>25000.0</td>\n      <td>0.2000</td>\n      <td>929.09</td>\n      <td>MORTGAGE</td>\n      <td>105000.0</td>\n      <td>Verified</td>\n      <td>Mar-2019</td>\n      <td>low_risk</td>\n      <td>n</td>\n      <td>20.23</td>\n      <td>0.0</td>\n      <td>0.0</td>\n      <td>17.0</td>\n      <td>1.0</td>\n      <td>18368.0</td>\n      <td>34.0</td>\n      <td>w</td>\n      <td>24293.13</td>\n      <td>24293.13</td>\n      <td>873.53</td>\n      <td>873.53</td>\n      <td>706.87</td>\n      <td>166.66</td>\n      <td>0.0</td>\n      <td>0.0</td>\n      <td>0.0</td>\n      <td>929.09</td>\n      <td>May-2019</td>\n      <td>0.0</td>\n      <td>1.0</td>\n      <td>Individual</td>\n      <td>0.0</td>\n      <td>165.0</td>\n      <td>228119.0</td>\n      <td>3.0</td>\n      <td>3.0</td>\n      <td>2.0</td>\n      <td>3.0</td>\n      <td>4.0</td>\n      <td>42273.0</td>\n      <td>86.0</td>\n      <td>4.0</td>\n      <td>8.0</td>\n      <td>5197.0</td>\n      <td>61.0</td>\n      <td>50400.0</td>\n      <td>4.0</td>\n      <td>9.0</td>\n      <td>3.0</td>\n      <td>13.0</td>\n      <td>13419.0</td>\n      <td>29502.0</td>\n      <td>28.4</td>\n      <td>0.0</td>\n      <td>0.0</td>\n      <td>87.0</td>\n      <td>286.0</td>\n      <td>1.0</td>\n      <td>1.0</td>\n      <td>2.0</td>\n      <td>1.0</td>\n      <td>11.0</td>\n      <td>3.0</td>\n      <td>7.0</td>\n      <td>11.0</td>\n      <td>8.0</td>\n      <td>13.0</td>\n      <td>14.0</td>\n      <td>13.0</td>\n      <td>18.0</td>\n      <td>11.0</td>\n      <td>17.0</td>\n      <td>0.0</td>\n      <td>0.0</td>\n      <td>0.0</td>\n      <td>6.0</td>\n      <td>91.2</td>\n      <td>50.0</td>\n      <td>1.0</td>\n      <td>0.0</td>\n      <td>271427.0</td>\n      <td>60641.0</td>\n      <td>41200.0</td>\n      <td>49197.0</td>\n      <td>N</td>\n      <td>N</td>\n    </tr>\n    <tr>\n      <th>2</th>\n      <td>20000.0</td>\n      <td>0.2000</td>\n      <td>529.88</td>\n      <td>MORTGAGE</td>\n      <td>56000.0</td>\n      <td>Verified</td>\n      <td>Mar-2019</td>\n      <td>low_risk</td>\n      <td>n</td>\n      <td>24.26</td>\n      <td>0.0</td>\n      <td>0.0</td>\n      <td>8.0</td>\n      <td>0.0</td>\n      <td>13247.0</td>\n      <td>21.0</td>\n      <td>w</td>\n      <td>19636.79</td>\n      <td>19636.79</td>\n      <td>485.44</td>\n      <td>485.44</td>\n      <td>363.21</td>\n      <td>122.23</td>\n      <td>0.0</td>\n      <td>0.0</td>\n      <td>0.0</td>\n      <td>529.88</td>\n      <td>May-2019</td>\n      <td>0.0</td>\n      <td>1.0</td>\n      <td>Individual</td>\n      <td>0.0</td>\n      <td>0.0</td>\n      <td>45684.0</td>\n      <td>2.0</td>\n      <td>3.0</td>\n      <td>2.0</td>\n      <td>3.0</td>\n      <td>4.0</td>\n      <td>32437.0</td>\n      <td>75.0</td>\n      <td>2.0</td>\n      <td>3.0</td>\n      <td>2810.0</td>\n      <td>75.0</td>\n      <td>17500.0</td>\n      <td>0.0</td>\n      <td>4.0</td>\n      <td>1.0</td>\n      <td>6.0</td>\n      <td>5711.0</td>\n      <td>2839.0</td>\n      <td>62.1</td>\n      <td>0.0</td>\n      <td>0.0</td>\n      <td>159.0</td>\n      <td>156.0</td>\n      <td>7.0</td>\n      <td>4.0</td>\n      <td>0.0</td>\n      <td>7.0</td>\n      <td>7.0</td>\n      <td>6.0</td>\n      <td>2.0</td>\n      <td>5.0</td>\n      <td>2.0</td>\n      <td>7.0</td>\n      <td>8.0</td>\n      <td>5.0</td>\n      <td>13.0</td>\n      <td>5.0</td>\n      <td>8.0</td>\n      <td>0.0</td>\n      <td>0.0</td>\n      <td>0.0</td>\n      <td>4.0</td>\n      <td>66.7</td>\n      <td>50.0</td>\n      <td>0.0</td>\n      <td>0.0</td>\n      <td>60644.0</td>\n      <td>45684.0</td>\n      <td>7500.0</td>\n      <td>43144.0</td>\n      <td>N</td>\n      <td>N</td>\n    </tr>\n    <tr>\n      <th>3</th>\n      <td>10000.0</td>\n      <td>0.1640</td>\n      <td>353.55</td>\n      <td>RENT</td>\n      <td>92000.0</td>\n      <td>Verified</td>\n      <td>Mar-2019</td>\n      <td>low_risk</td>\n      <td>n</td>\n      <td>31.44</td>\n      <td>0.0</td>\n      <td>1.0</td>\n      <td>10.0</td>\n      <td>1.0</td>\n      <td>17996.0</td>\n      <td>23.0</td>\n      <td>w</td>\n      <td>9719.34</td>\n      <td>9719.34</td>\n      <td>335.33</td>\n      <td>335.33</td>\n      <td>280.66</td>\n      <td>54.67</td>\n      <td>0.0</td>\n      <td>0.0</td>\n      <td>0.0</td>\n      <td>353.55</td>\n      <td>May-2019</td>\n      <td>0.0</td>\n      <td>1.0</td>\n      <td>Individual</td>\n      <td>0.0</td>\n      <td>0.0</td>\n      <td>68784.0</td>\n      <td>0.0</td>\n      <td>4.0</td>\n      <td>1.0</td>\n      <td>3.0</td>\n      <td>9.0</td>\n      <td>50788.0</td>\n      <td>66.0</td>\n      <td>0.0</td>\n      <td>1.0</td>\n      <td>6360.0</td>\n      <td>69.0</td>\n      <td>23000.0</td>\n      <td>3.0</td>\n      <td>5.0</td>\n      <td>4.0</td>\n      <td>4.0</td>\n      <td>6878.0</td>\n      <td>4899.0</td>\n      <td>75.1</td>\n      <td>0.0</td>\n      <td>0.0</td>\n      <td>100.0</td>\n      <td>89.0</td>\n      <td>24.0</td>\n      <td>9.0</td>\n      <td>0.0</td>\n      <td>34.0</td>\n      <td>0.0</td>\n      <td>0.0</td>\n      <td>4.0</td>\n      <td>6.0</td>\n      <td>4.0</td>\n      <td>4.0</td>\n      <td>17.0</td>\n      <td>6.0</td>\n      <td>6.0</td>\n      <td>6.0</td>\n      <td>10.0</td>\n      <td>0.0</td>\n      <td>0.0</td>\n      <td>0.0</td>\n      <td>1.0</td>\n      <td>100.0</td>\n      <td>50.0</td>\n      <td>1.0</td>\n      <td>0.0</td>\n      <td>99506.0</td>\n      <td>68784.0</td>\n      <td>19700.0</td>\n      <td>76506.0</td>\n      <td>N</td>\n      <td>N</td>\n    </tr>\n    <tr>\n      <th>4</th>\n      <td>22000.0</td>\n      <td>0.1474</td>\n      <td>520.39</td>\n      <td>MORTGAGE</td>\n      <td>52000.0</td>\n      <td>Not Verified</td>\n      <td>Mar-2019</td>\n      <td>low_risk</td>\n      <td>n</td>\n      <td>18.76</td>\n      <td>0.0</td>\n      <td>1.0</td>\n      <td>14.0</td>\n      <td>0.0</td>\n      <td>9091.0</td>\n      <td>28.0</td>\n      <td>w</td>\n      <td>21614.73</td>\n      <td>21614.73</td>\n      <td>484.36</td>\n      <td>484.36</td>\n      <td>385.27</td>\n      <td>99.09</td>\n      <td>0.0</td>\n      <td>0.0</td>\n      <td>0.0</td>\n      <td>520.39</td>\n      <td>May-2019</td>\n      <td>0.0</td>\n      <td>1.0</td>\n      <td>Individual</td>\n      <td>0.0</td>\n      <td>0.0</td>\n      <td>177745.0</td>\n      <td>0.0</td>\n      <td>1.0</td>\n      <td>0.0</td>\n      <td>2.0</td>\n      <td>14.0</td>\n      <td>16828.0</td>\n      <td>84.0</td>\n      <td>1.0</td>\n      <td>1.0</td>\n      <td>3600.0</td>\n      <td>41.0</td>\n      <td>43100.0</td>\n      <td>2.0</td>\n      <td>0.0</td>\n      <td>2.0</td>\n      <td>4.0</td>\n      <td>13673.0</td>\n      <td>19699.0</td>\n      <td>28.6</td>\n      <td>0.0</td>\n      <td>0.0</td>\n      <td>67.0</td>\n      <td>138.0</td>\n      <td>11.0</td>\n      <td>11.0</td>\n      <td>4.0</td>\n      <td>11.0</td>\n      <td>0.0</td>\n      <td>0.0</td>\n      <td>4.0</td>\n      <td>6.0</td>\n      <td>7.0</td>\n      <td>11.0</td>\n      <td>6.0</td>\n      <td>12.0</td>\n      <td>18.0</td>\n      <td>6.0</td>\n      <td>14.0</td>\n      <td>0.0</td>\n      <td>0.0</td>\n      <td>0.0</td>\n      <td>1.0</td>\n      <td>100.0</td>\n      <td>0.0</td>\n      <td>0.0</td>\n      <td>0.0</td>\n      <td>219750.0</td>\n      <td>25919.0</td>\n      <td>27600.0</td>\n      <td>20000.0</td>\n      <td>N</td>\n      <td>N</td>\n    </tr>\n  </tbody>\n</table>\n</div>"
     },
     "metadata": {},
     "execution_count": 39
    }
   ],
   "source": [
    "# Load the data\n",
    "file_path = Path('../Supervised_Machine_Learning/LoanStats_2019Q1.csv')\n",
    "df = pd.read_csv(file_path, skiprows=1)[:-2]\n",
    "df = df.loc[:, columns].copy()\n",
    "\n",
    "# Drop the null columns where all values are null\n",
    "df = df.dropna(axis='columns', how='all')\n",
    "\n",
    "# Drop the null rows\n",
    "df = df.dropna()\n",
    "\n",
    "# Remove the `Issued` loan status\n",
    "issued_mask = df['loan_status'] != 'Issued'\n",
    "df = df.loc[issued_mask]\n",
    "\n",
    "# convert interest rate to numerical\n",
    "df['int_rate'] = df['int_rate'].str.replace('%', '')\n",
    "df['int_rate'] = df['int_rate'].astype('float') / 100\n",
    "\n",
    "\n",
    "# Convert the target column values to low_risk and high_risk based on their values\n",
    "x = {'Current': 'low_risk'}   \n",
    "df = df.replace(x)\n",
    "\n",
    "x = dict.fromkeys(['Late (31-120 days)', 'Late (16-30 days)', 'Default', 'In Grace Period'], 'high_risk')    \n",
    "df = df.replace(x)\n",
    "\n",
    "df.reset_index(inplace=True, drop=True)\n",
    "\n",
    "df.head()"
   ]
  },
  {
   "cell_type": "code",
   "execution_count": 40,
   "metadata": {},
   "outputs": [],
   "source": [
    "# Encode labels for home_ownership, verification_status, issue_d\n",
    "from sklearn.preprocessing import LabelEncoder\n",
    "le = LabelEncoder()\n",
    "\n",
    "df_encoded= df.copy()\n",
    "df_encoded['home_ownership'] = le.fit_transform(df_encoded['home_ownership'])\n",
    "df_encoded['verification_status'] = le.fit_transform(df_encoded['verification_status'])\n",
    "df_encoded['application_type'] = le.fit_transform(df_encoded['application_type'])\n",
    "df_encoded['initial_list_status'] = le.fit_transform(df_encoded['initial_list_status'])\n",
    "df_encoded['next_pymnt_d'] = le.fit_transform(df_encoded['next_pymnt_d'])\n",
    "df_encoded['hardship_flag'] = le.fit_transform(df_encoded['hardship_flag'])\n",
    "df_encoded['debt_settlement_flag'] = le.fit_transform(df_encoded['debt_settlement_flag'])\n",
    "df_encoded['pymnt_plan'] = le.fit_transform(df_encoded['pymnt_plan'])\n",
    "\n"
   ]
  },
  {
   "cell_type": "code",
   "execution_count": 41,
   "metadata": {},
   "outputs": [],
   "source": [
    "# Creating month label encoder\n",
    "#df_encoded[\"issue_d_code\"] = le.fit_transform(df_encoded[\"issue_d\"])\n",
    "\n",
    "#Create an issue_d dictionary\n",
    "# Months dictionary\n",
    "issue_d_code = {\n",
    "    \"Jan-2019\": 1,\n",
    "    \"Feb-2019\": 2,\n",
    "    \"Mar-2019\": 3,\n",
    "}\n",
    "# Months' names encoded using the dictionary values\n",
    "df_encoded[\"issue_d_code\"] = df_encoded[\"issue_d\"].apply(lambda x: issue_d_code[x])\n",
    "\n",
    "# Drop string column: issue_d\n",
    "df_encoded = df_encoded.drop([\"issue_d\"], axis=1)\n"
   ]
  },
  {
   "cell_type": "code",
   "execution_count": 42,
   "metadata": {},
   "outputs": [],
   "source": [
    " # Expand table to show all columns, no truncation\n",
    " pd.options.display.max_columns = None"
   ]
  },
  {
   "cell_type": "code",
   "execution_count": 43,
   "metadata": {},
   "outputs": [
    {
     "output_type": "execute_result",
     "data": {
      "text/plain": "   loan_amnt  int_rate  installment  home_ownership  annual_inc  \\\n0    10500.0    0.1719       375.35               3     66000.0   \n1    25000.0    0.2000       929.09               1    105000.0   \n2    20000.0    0.2000       529.88               1     56000.0   \n3    10000.0    0.1640       353.55               3     92000.0   \n4    22000.0    0.1474       520.39               1     52000.0   \n\n   verification_status loan_status  pymnt_plan    dti  delinq_2yrs  \\\n0                    1    low_risk           0  27.24          0.0   \n1                    2    low_risk           0  20.23          0.0   \n2                    2    low_risk           0  24.26          0.0   \n3                    2    low_risk           0  31.44          0.0   \n4                    0    low_risk           0  18.76          0.0   \n\n   inq_last_6mths  open_acc  pub_rec  revol_bal  total_acc  \\\n0             0.0       8.0      0.0     1609.0       14.0   \n1             0.0      17.0      1.0    18368.0       34.0   \n2             0.0       8.0      0.0    13247.0       21.0   \n3             1.0      10.0      1.0    17996.0       23.0   \n4             1.0      14.0      0.0     9091.0       28.0   \n\n   initial_list_status  out_prncp  out_prncp_inv  total_pymnt  \\\n0                    1   10204.87       10204.87       355.29   \n1                    1   24293.13       24293.13       873.53   \n2                    1   19636.79       19636.79       485.44   \n3                    1    9719.34        9719.34       335.33   \n4                    1   21614.73       21614.73       484.36   \n\n   total_pymnt_inv  total_rec_prncp  total_rec_int  total_rec_late_fee  \\\n0           355.29           295.13          60.16                 0.0   \n1           873.53           706.87         166.66                 0.0   \n2           485.44           363.21         122.23                 0.0   \n3           335.33           280.66          54.67                 0.0   \n4           484.36           385.27          99.09                 0.0   \n\n   recoveries  collection_recovery_fee  last_pymnt_amnt  next_pymnt_d  \\\n0         0.0                      0.0           375.35             1   \n1         0.0                      0.0           929.09             1   \n2         0.0                      0.0           529.88             1   \n3         0.0                      0.0           353.55             1   \n4         0.0                      0.0           520.39             1   \n\n   collections_12_mths_ex_med  policy_code  application_type  acc_now_delinq  \\\n0                         0.0          1.0                 0             0.0   \n1                         0.0          1.0                 0             0.0   \n2                         0.0          1.0                 0             0.0   \n3                         0.0          1.0                 0             0.0   \n4                         0.0          1.0                 0             0.0   \n\n   tot_coll_amt  tot_cur_bal  open_acc_6m  open_act_il  open_il_12m  \\\n0         178.0      38199.0          3.0          4.0          2.0   \n1         165.0     228119.0          3.0          3.0          2.0   \n2           0.0      45684.0          2.0          3.0          2.0   \n3           0.0      68784.0          0.0          4.0          1.0   \n4           0.0     177745.0          0.0          1.0          0.0   \n\n   open_il_24m  mths_since_rcnt_il  total_bal_il  il_util  open_rv_12m  \\\n0          4.0                 3.0       36590.0     59.0          1.0   \n1          3.0                 4.0       42273.0     86.0          4.0   \n2          3.0                 4.0       32437.0     75.0          2.0   \n3          3.0                 9.0       50788.0     66.0          0.0   \n4          2.0                14.0       16828.0     84.0          1.0   \n\n   open_rv_24m  max_bal_bc  all_util  total_rev_hi_lim  inq_fi  total_cu_tl  \\\n0          2.0      1553.0      58.0            3700.0     1.0          0.0   \n1          8.0      5197.0      61.0           50400.0     4.0          9.0   \n2          3.0      2810.0      75.0           17500.0     0.0          4.0   \n3          1.0      6360.0      69.0           23000.0     3.0          5.0   \n4          1.0      3600.0      41.0           43100.0     2.0          0.0   \n\n   inq_last_12m  acc_open_past_24mths  avg_cur_bal  bc_open_to_buy  bc_util  \\\n0           4.0                   6.0       4775.0           447.0     77.7   \n1           3.0                  13.0      13419.0         29502.0     28.4   \n2           1.0                   6.0       5711.0          2839.0     62.1   \n3           4.0                   4.0       6878.0          4899.0     75.1   \n4           2.0                   4.0      13673.0         19699.0     28.6   \n\n   chargeoff_within_12_mths  delinq_amnt  mo_sin_old_il_acct  \\\n0                       0.0          0.0                93.0   \n1                       0.0          0.0                87.0   \n2                       0.0          0.0               159.0   \n3                       0.0          0.0               100.0   \n4                       0.0          0.0                67.0   \n\n   mo_sin_old_rev_tl_op  mo_sin_rcnt_rev_tl_op  mo_sin_rcnt_tl  mort_acc  \\\n0                  96.0                    3.0             3.0       0.0   \n1                 286.0                    1.0             1.0       2.0   \n2                 156.0                    7.0             4.0       0.0   \n3                  89.0                   24.0             9.0       0.0   \n4                 138.0                   11.0            11.0       4.0   \n\n   mths_since_recent_bc  mths_since_recent_inq  num_accts_ever_120_pd  \\\n0                  20.0                    1.0                    0.0   \n1                   1.0                   11.0                    3.0   \n2                   7.0                    7.0                    6.0   \n3                  34.0                    0.0                    0.0   \n4                  11.0                    0.0                    0.0   \n\n   num_actv_bc_tl  num_actv_rev_tl  num_bc_sats  num_bc_tl  num_il_tl  \\\n0             1.0              2.0          1.0        1.0       10.0   \n1             7.0             11.0          8.0       13.0       14.0   \n2             2.0              5.0          2.0        7.0        8.0   \n3             4.0              6.0          4.0        4.0       17.0   \n4             4.0              6.0          7.0       11.0        6.0   \n\n   num_op_rev_tl  num_rev_accts  num_rev_tl_bal_gt_0  num_sats  \\\n0            3.0            3.0                  2.0       8.0   \n1           13.0           18.0                 11.0      17.0   \n2            5.0           13.0                  5.0       8.0   \n3            6.0            6.0                  6.0      10.0   \n4           12.0           18.0                  6.0      14.0   \n\n   num_tl_120dpd_2m  num_tl_30dpd  num_tl_90g_dpd_24m  num_tl_op_past_12m  \\\n0               0.0           0.0                 0.0                 3.0   \n1               0.0           0.0                 0.0                 6.0   \n2               0.0           0.0                 0.0                 4.0   \n3               0.0           0.0                 0.0                 1.0   \n4               0.0           0.0                 0.0                 1.0   \n\n   pct_tl_nvr_dlq  percent_bc_gt_75  pub_rec_bankruptcies  tax_liens  \\\n0            85.7             100.0                   0.0        0.0   \n1            91.2              50.0                   1.0        0.0   \n2            66.7              50.0                   0.0        0.0   \n3           100.0              50.0                   1.0        0.0   \n4           100.0               0.0                   0.0        0.0   \n\n   tot_hi_cred_lim  total_bal_ex_mort  total_bc_limit  \\\n0          65687.0            38199.0          2000.0   \n1         271427.0            60641.0         41200.0   \n2          60644.0            45684.0          7500.0   \n3          99506.0            68784.0         19700.0   \n4         219750.0            25919.0         27600.0   \n\n   total_il_high_credit_limit  hardship_flag  debt_settlement_flag  \\\n0                     61987.0              0                     0   \n1                     49197.0              0                     0   \n2                     43144.0              0                     0   \n3                     76506.0              0                     0   \n4                     20000.0              0                     0   \n\n   issue_d_code  \n0             3  \n1             3  \n2             3  \n3             3  \n4             3  ",
      "text/html": "<div>\n<style scoped>\n    .dataframe tbody tr th:only-of-type {\n        vertical-align: middle;\n    }\n\n    .dataframe tbody tr th {\n        vertical-align: top;\n    }\n\n    .dataframe thead th {\n        text-align: right;\n    }\n</style>\n<table border=\"1\" class=\"dataframe\">\n  <thead>\n    <tr style=\"text-align: right;\">\n      <th></th>\n      <th>loan_amnt</th>\n      <th>int_rate</th>\n      <th>installment</th>\n      <th>home_ownership</th>\n      <th>annual_inc</th>\n      <th>verification_status</th>\n      <th>loan_status</th>\n      <th>pymnt_plan</th>\n      <th>dti</th>\n      <th>delinq_2yrs</th>\n      <th>inq_last_6mths</th>\n      <th>open_acc</th>\n      <th>pub_rec</th>\n      <th>revol_bal</th>\n      <th>total_acc</th>\n      <th>initial_list_status</th>\n      <th>out_prncp</th>\n      <th>out_prncp_inv</th>\n      <th>total_pymnt</th>\n      <th>total_pymnt_inv</th>\n      <th>total_rec_prncp</th>\n      <th>total_rec_int</th>\n      <th>total_rec_late_fee</th>\n      <th>recoveries</th>\n      <th>collection_recovery_fee</th>\n      <th>last_pymnt_amnt</th>\n      <th>next_pymnt_d</th>\n      <th>collections_12_mths_ex_med</th>\n      <th>policy_code</th>\n      <th>application_type</th>\n      <th>acc_now_delinq</th>\n      <th>tot_coll_amt</th>\n      <th>tot_cur_bal</th>\n      <th>open_acc_6m</th>\n      <th>open_act_il</th>\n      <th>open_il_12m</th>\n      <th>open_il_24m</th>\n      <th>mths_since_rcnt_il</th>\n      <th>total_bal_il</th>\n      <th>il_util</th>\n      <th>open_rv_12m</th>\n      <th>open_rv_24m</th>\n      <th>max_bal_bc</th>\n      <th>all_util</th>\n      <th>total_rev_hi_lim</th>\n      <th>inq_fi</th>\n      <th>total_cu_tl</th>\n      <th>inq_last_12m</th>\n      <th>acc_open_past_24mths</th>\n      <th>avg_cur_bal</th>\n      <th>bc_open_to_buy</th>\n      <th>bc_util</th>\n      <th>chargeoff_within_12_mths</th>\n      <th>delinq_amnt</th>\n      <th>mo_sin_old_il_acct</th>\n      <th>mo_sin_old_rev_tl_op</th>\n      <th>mo_sin_rcnt_rev_tl_op</th>\n      <th>mo_sin_rcnt_tl</th>\n      <th>mort_acc</th>\n      <th>mths_since_recent_bc</th>\n      <th>mths_since_recent_inq</th>\n      <th>num_accts_ever_120_pd</th>\n      <th>num_actv_bc_tl</th>\n      <th>num_actv_rev_tl</th>\n      <th>num_bc_sats</th>\n      <th>num_bc_tl</th>\n      <th>num_il_tl</th>\n      <th>num_op_rev_tl</th>\n      <th>num_rev_accts</th>\n      <th>num_rev_tl_bal_gt_0</th>\n      <th>num_sats</th>\n      <th>num_tl_120dpd_2m</th>\n      <th>num_tl_30dpd</th>\n      <th>num_tl_90g_dpd_24m</th>\n      <th>num_tl_op_past_12m</th>\n      <th>pct_tl_nvr_dlq</th>\n      <th>percent_bc_gt_75</th>\n      <th>pub_rec_bankruptcies</th>\n      <th>tax_liens</th>\n      <th>tot_hi_cred_lim</th>\n      <th>total_bal_ex_mort</th>\n      <th>total_bc_limit</th>\n      <th>total_il_high_credit_limit</th>\n      <th>hardship_flag</th>\n      <th>debt_settlement_flag</th>\n      <th>issue_d_code</th>\n    </tr>\n  </thead>\n  <tbody>\n    <tr>\n      <th>0</th>\n      <td>10500.0</td>\n      <td>0.1719</td>\n      <td>375.35</td>\n      <td>3</td>\n      <td>66000.0</td>\n      <td>1</td>\n      <td>low_risk</td>\n      <td>0</td>\n      <td>27.24</td>\n      <td>0.0</td>\n      <td>0.0</td>\n      <td>8.0</td>\n      <td>0.0</td>\n      <td>1609.0</td>\n      <td>14.0</td>\n      <td>1</td>\n      <td>10204.87</td>\n      <td>10204.87</td>\n      <td>355.29</td>\n      <td>355.29</td>\n      <td>295.13</td>\n      <td>60.16</td>\n      <td>0.0</td>\n      <td>0.0</td>\n      <td>0.0</td>\n      <td>375.35</td>\n      <td>1</td>\n      <td>0.0</td>\n      <td>1.0</td>\n      <td>0</td>\n      <td>0.0</td>\n      <td>178.0</td>\n      <td>38199.0</td>\n      <td>3.0</td>\n      <td>4.0</td>\n      <td>2.0</td>\n      <td>4.0</td>\n      <td>3.0</td>\n      <td>36590.0</td>\n      <td>59.0</td>\n      <td>1.0</td>\n      <td>2.0</td>\n      <td>1553.0</td>\n      <td>58.0</td>\n      <td>3700.0</td>\n      <td>1.0</td>\n      <td>0.0</td>\n      <td>4.0</td>\n      <td>6.0</td>\n      <td>4775.0</td>\n      <td>447.0</td>\n      <td>77.7</td>\n      <td>0.0</td>\n      <td>0.0</td>\n      <td>93.0</td>\n      <td>96.0</td>\n      <td>3.0</td>\n      <td>3.0</td>\n      <td>0.0</td>\n      <td>20.0</td>\n      <td>1.0</td>\n      <td>0.0</td>\n      <td>1.0</td>\n      <td>2.0</td>\n      <td>1.0</td>\n      <td>1.0</td>\n      <td>10.0</td>\n      <td>3.0</td>\n      <td>3.0</td>\n      <td>2.0</td>\n      <td>8.0</td>\n      <td>0.0</td>\n      <td>0.0</td>\n      <td>0.0</td>\n      <td>3.0</td>\n      <td>85.7</td>\n      <td>100.0</td>\n      <td>0.0</td>\n      <td>0.0</td>\n      <td>65687.0</td>\n      <td>38199.0</td>\n      <td>2000.0</td>\n      <td>61987.0</td>\n      <td>0</td>\n      <td>0</td>\n      <td>3</td>\n    </tr>\n    <tr>\n      <th>1</th>\n      <td>25000.0</td>\n      <td>0.2000</td>\n      <td>929.09</td>\n      <td>1</td>\n      <td>105000.0</td>\n      <td>2</td>\n      <td>low_risk</td>\n      <td>0</td>\n      <td>20.23</td>\n      <td>0.0</td>\n      <td>0.0</td>\n      <td>17.0</td>\n      <td>1.0</td>\n      <td>18368.0</td>\n      <td>34.0</td>\n      <td>1</td>\n      <td>24293.13</td>\n      <td>24293.13</td>\n      <td>873.53</td>\n      <td>873.53</td>\n      <td>706.87</td>\n      <td>166.66</td>\n      <td>0.0</td>\n      <td>0.0</td>\n      <td>0.0</td>\n      <td>929.09</td>\n      <td>1</td>\n      <td>0.0</td>\n      <td>1.0</td>\n      <td>0</td>\n      <td>0.0</td>\n      <td>165.0</td>\n      <td>228119.0</td>\n      <td>3.0</td>\n      <td>3.0</td>\n      <td>2.0</td>\n      <td>3.0</td>\n      <td>4.0</td>\n      <td>42273.0</td>\n      <td>86.0</td>\n      <td>4.0</td>\n      <td>8.0</td>\n      <td>5197.0</td>\n      <td>61.0</td>\n      <td>50400.0</td>\n      <td>4.0</td>\n      <td>9.0</td>\n      <td>3.0</td>\n      <td>13.0</td>\n      <td>13419.0</td>\n      <td>29502.0</td>\n      <td>28.4</td>\n      <td>0.0</td>\n      <td>0.0</td>\n      <td>87.0</td>\n      <td>286.0</td>\n      <td>1.0</td>\n      <td>1.0</td>\n      <td>2.0</td>\n      <td>1.0</td>\n      <td>11.0</td>\n      <td>3.0</td>\n      <td>7.0</td>\n      <td>11.0</td>\n      <td>8.0</td>\n      <td>13.0</td>\n      <td>14.0</td>\n      <td>13.0</td>\n      <td>18.0</td>\n      <td>11.0</td>\n      <td>17.0</td>\n      <td>0.0</td>\n      <td>0.0</td>\n      <td>0.0</td>\n      <td>6.0</td>\n      <td>91.2</td>\n      <td>50.0</td>\n      <td>1.0</td>\n      <td>0.0</td>\n      <td>271427.0</td>\n      <td>60641.0</td>\n      <td>41200.0</td>\n      <td>49197.0</td>\n      <td>0</td>\n      <td>0</td>\n      <td>3</td>\n    </tr>\n    <tr>\n      <th>2</th>\n      <td>20000.0</td>\n      <td>0.2000</td>\n      <td>529.88</td>\n      <td>1</td>\n      <td>56000.0</td>\n      <td>2</td>\n      <td>low_risk</td>\n      <td>0</td>\n      <td>24.26</td>\n      <td>0.0</td>\n      <td>0.0</td>\n      <td>8.0</td>\n      <td>0.0</td>\n      <td>13247.0</td>\n      <td>21.0</td>\n      <td>1</td>\n      <td>19636.79</td>\n      <td>19636.79</td>\n      <td>485.44</td>\n      <td>485.44</td>\n      <td>363.21</td>\n      <td>122.23</td>\n      <td>0.0</td>\n      <td>0.0</td>\n      <td>0.0</td>\n      <td>529.88</td>\n      <td>1</td>\n      <td>0.0</td>\n      <td>1.0</td>\n      <td>0</td>\n      <td>0.0</td>\n      <td>0.0</td>\n      <td>45684.0</td>\n      <td>2.0</td>\n      <td>3.0</td>\n      <td>2.0</td>\n      <td>3.0</td>\n      <td>4.0</td>\n      <td>32437.0</td>\n      <td>75.0</td>\n      <td>2.0</td>\n      <td>3.0</td>\n      <td>2810.0</td>\n      <td>75.0</td>\n      <td>17500.0</td>\n      <td>0.0</td>\n      <td>4.0</td>\n      <td>1.0</td>\n      <td>6.0</td>\n      <td>5711.0</td>\n      <td>2839.0</td>\n      <td>62.1</td>\n      <td>0.0</td>\n      <td>0.0</td>\n      <td>159.0</td>\n      <td>156.0</td>\n      <td>7.0</td>\n      <td>4.0</td>\n      <td>0.0</td>\n      <td>7.0</td>\n      <td>7.0</td>\n      <td>6.0</td>\n      <td>2.0</td>\n      <td>5.0</td>\n      <td>2.0</td>\n      <td>7.0</td>\n      <td>8.0</td>\n      <td>5.0</td>\n      <td>13.0</td>\n      <td>5.0</td>\n      <td>8.0</td>\n      <td>0.0</td>\n      <td>0.0</td>\n      <td>0.0</td>\n      <td>4.0</td>\n      <td>66.7</td>\n      <td>50.0</td>\n      <td>0.0</td>\n      <td>0.0</td>\n      <td>60644.0</td>\n      <td>45684.0</td>\n      <td>7500.0</td>\n      <td>43144.0</td>\n      <td>0</td>\n      <td>0</td>\n      <td>3</td>\n    </tr>\n    <tr>\n      <th>3</th>\n      <td>10000.0</td>\n      <td>0.1640</td>\n      <td>353.55</td>\n      <td>3</td>\n      <td>92000.0</td>\n      <td>2</td>\n      <td>low_risk</td>\n      <td>0</td>\n      <td>31.44</td>\n      <td>0.0</td>\n      <td>1.0</td>\n      <td>10.0</td>\n      <td>1.0</td>\n      <td>17996.0</td>\n      <td>23.0</td>\n      <td>1</td>\n      <td>9719.34</td>\n      <td>9719.34</td>\n      <td>335.33</td>\n      <td>335.33</td>\n      <td>280.66</td>\n      <td>54.67</td>\n      <td>0.0</td>\n      <td>0.0</td>\n      <td>0.0</td>\n      <td>353.55</td>\n      <td>1</td>\n      <td>0.0</td>\n      <td>1.0</td>\n      <td>0</td>\n      <td>0.0</td>\n      <td>0.0</td>\n      <td>68784.0</td>\n      <td>0.0</td>\n      <td>4.0</td>\n      <td>1.0</td>\n      <td>3.0</td>\n      <td>9.0</td>\n      <td>50788.0</td>\n      <td>66.0</td>\n      <td>0.0</td>\n      <td>1.0</td>\n      <td>6360.0</td>\n      <td>69.0</td>\n      <td>23000.0</td>\n      <td>3.0</td>\n      <td>5.0</td>\n      <td>4.0</td>\n      <td>4.0</td>\n      <td>6878.0</td>\n      <td>4899.0</td>\n      <td>75.1</td>\n      <td>0.0</td>\n      <td>0.0</td>\n      <td>100.0</td>\n      <td>89.0</td>\n      <td>24.0</td>\n      <td>9.0</td>\n      <td>0.0</td>\n      <td>34.0</td>\n      <td>0.0</td>\n      <td>0.0</td>\n      <td>4.0</td>\n      <td>6.0</td>\n      <td>4.0</td>\n      <td>4.0</td>\n      <td>17.0</td>\n      <td>6.0</td>\n      <td>6.0</td>\n      <td>6.0</td>\n      <td>10.0</td>\n      <td>0.0</td>\n      <td>0.0</td>\n      <td>0.0</td>\n      <td>1.0</td>\n      <td>100.0</td>\n      <td>50.0</td>\n      <td>1.0</td>\n      <td>0.0</td>\n      <td>99506.0</td>\n      <td>68784.0</td>\n      <td>19700.0</td>\n      <td>76506.0</td>\n      <td>0</td>\n      <td>0</td>\n      <td>3</td>\n    </tr>\n    <tr>\n      <th>4</th>\n      <td>22000.0</td>\n      <td>0.1474</td>\n      <td>520.39</td>\n      <td>1</td>\n      <td>52000.0</td>\n      <td>0</td>\n      <td>low_risk</td>\n      <td>0</td>\n      <td>18.76</td>\n      <td>0.0</td>\n      <td>1.0</td>\n      <td>14.0</td>\n      <td>0.0</td>\n      <td>9091.0</td>\n      <td>28.0</td>\n      <td>1</td>\n      <td>21614.73</td>\n      <td>21614.73</td>\n      <td>484.36</td>\n      <td>484.36</td>\n      <td>385.27</td>\n      <td>99.09</td>\n      <td>0.0</td>\n      <td>0.0</td>\n      <td>0.0</td>\n      <td>520.39</td>\n      <td>1</td>\n      <td>0.0</td>\n      <td>1.0</td>\n      <td>0</td>\n      <td>0.0</td>\n      <td>0.0</td>\n      <td>177745.0</td>\n      <td>0.0</td>\n      <td>1.0</td>\n      <td>0.0</td>\n      <td>2.0</td>\n      <td>14.0</td>\n      <td>16828.0</td>\n      <td>84.0</td>\n      <td>1.0</td>\n      <td>1.0</td>\n      <td>3600.0</td>\n      <td>41.0</td>\n      <td>43100.0</td>\n      <td>2.0</td>\n      <td>0.0</td>\n      <td>2.0</td>\n      <td>4.0</td>\n      <td>13673.0</td>\n      <td>19699.0</td>\n      <td>28.6</td>\n      <td>0.0</td>\n      <td>0.0</td>\n      <td>67.0</td>\n      <td>138.0</td>\n      <td>11.0</td>\n      <td>11.0</td>\n      <td>4.0</td>\n      <td>11.0</td>\n      <td>0.0</td>\n      <td>0.0</td>\n      <td>4.0</td>\n      <td>6.0</td>\n      <td>7.0</td>\n      <td>11.0</td>\n      <td>6.0</td>\n      <td>12.0</td>\n      <td>18.0</td>\n      <td>6.0</td>\n      <td>14.0</td>\n      <td>0.0</td>\n      <td>0.0</td>\n      <td>0.0</td>\n      <td>1.0</td>\n      <td>100.0</td>\n      <td>0.0</td>\n      <td>0.0</td>\n      <td>0.0</td>\n      <td>219750.0</td>\n      <td>25919.0</td>\n      <td>27600.0</td>\n      <td>20000.0</td>\n      <td>0</td>\n      <td>0</td>\n      <td>3</td>\n    </tr>\n  </tbody>\n</table>\n</div>"
     },
     "metadata": {},
     "execution_count": 43
    }
   ],
   "source": [
    "df_encoded.head()"
   ]
  },
  {
   "cell_type": "markdown",
   "metadata": {},
   "source": [
    "# Split the Data into Training and Testing"
   ]
  },
  {
   "cell_type": "code",
   "execution_count": 44,
   "metadata": {},
   "outputs": [],
   "source": [
    "# Create our features\n",
    "X = df_encoded.drop(columns=\"loan_status\")\n",
    "\n",
    "# Create our target\n",
    "y = df_encoded[\"loan_status\"]"
   ]
  },
  {
   "cell_type": "code",
   "execution_count": 45,
   "metadata": {},
   "outputs": [
    {
     "output_type": "execute_result",
     "data": {
      "text/plain": "0        low_risk\n1        low_risk\n2        low_risk\n3        low_risk\n4        low_risk\n           ...   \n68812    low_risk\n68813    low_risk\n68814    low_risk\n68815    low_risk\n68816    low_risk\nName: loan_status, Length: 68817, dtype: object"
     },
     "metadata": {},
     "execution_count": 45
    }
   ],
   "source": [
    "y"
   ]
  },
  {
   "cell_type": "code",
   "execution_count": 46,
   "metadata": {},
   "outputs": [
    {
     "output_type": "execute_result",
     "data": {
      "text/plain": "          loan_amnt      int_rate   installment  home_ownership    annual_inc  \\\ncount  68817.000000  68817.000000  68817.000000    68817.000000  6.881700e+04   \nmean   16677.594562      0.127718    480.652863        1.812779  8.821371e+04   \nstd    10277.348590      0.048130    288.062432        0.941313  1.155800e+05   \nmin     1000.000000      0.060000     30.890000        0.000000  4.000000e+01   \n25%     9000.000000      0.088100    265.730000        1.000000  5.000000e+04   \n50%    15000.000000      0.118000    404.560000        1.000000  7.300000e+04   \n75%    24000.000000      0.155700    648.100000        3.000000  1.040000e+05   \nmax    40000.000000      0.308400   1676.230000        3.000000  8.797500e+06   \n\n       verification_status  pymnt_plan           dti   delinq_2yrs  \\\ncount         68817.000000     68817.0  68817.000000  68817.000000   \nmean              0.669994         0.0     21.778153      0.217766   \nstd               0.719105         0.0     20.199244      0.718367   \nmin               0.000000         0.0      0.000000      0.000000   \n25%               0.000000         0.0     13.890000      0.000000   \n50%               1.000000         0.0     19.760000      0.000000   \n75%               1.000000         0.0     26.660000      0.000000   \nmax               2.000000         0.0    999.000000     18.000000   \n\n       inq_last_6mths      open_acc       pub_rec      revol_bal  \\\ncount    68817.000000  68817.000000  68817.000000   68817.000000   \nmean         0.497697     12.587340      0.126030   17604.142828   \nstd          0.758122      6.022869      0.336797   21835.880400   \nmin          0.000000      2.000000      0.000000       0.000000   \n25%          0.000000      8.000000      0.000000    6293.000000   \n50%          0.000000     11.000000      0.000000   12068.000000   \n75%          1.000000     16.000000      0.000000   21735.000000   \nmax          5.000000     72.000000      4.000000  587191.000000   \n\n          total_acc  initial_list_status     out_prncp  out_prncp_inv  \\\ncount  68817.000000         68817.000000  68817.000000   68817.000000   \nmean      24.666347             0.876121  16018.845833   16015.919519   \nstd       12.318917             0.329446  10002.695495   10004.985940   \nmin        3.000000             0.000000      0.000000       0.000000   \n25%       16.000000             1.000000   8578.800000    8576.500000   \n50%       23.000000             1.000000  14067.750000   14061.030000   \n75%       31.000000             1.000000  22860.700000   22860.490000   \nmax      164.000000             1.000000  40000.000000   40000.000000   \n\n        total_pymnt  total_pymnt_inv  total_rec_prncp  total_rec_int  \\\ncount  68817.000000     68817.000000     68817.000000   68817.000000   \nmean     970.639473       970.431151       658.748750     311.855687   \nstd     1229.563301      1229.569864      1126.237377     279.786954   \nmin        0.000000         0.000000         0.000000       0.000000   \n25%      403.760000       403.550000       250.370000     115.440000   \n50%      710.790000       710.790000       449.890000     225.250000   \n75%     1214.600000      1214.590000       762.170000     415.710000   \nmax    41418.981165     41418.980000     40000.000000    2735.400000   \n\n       total_rec_late_fee  recoveries  collection_recovery_fee  \\\ncount        68817.000000     68817.0                  68817.0   \nmean             0.035072         0.0                      0.0   \nstd              1.086720         0.0                      0.0   \nmin              0.000000         0.0                      0.0   \n25%              0.000000         0.0                      0.0   \n50%              0.000000         0.0                      0.0   \n75%              0.000000         0.0                      0.0   \nmax             75.240000         0.0                      0.0   \n\n       last_pymnt_amnt  next_pymnt_d  collections_12_mths_ex_med  policy_code  \\\ncount     68817.000000  68817.000000                68817.000000      68817.0   \nmean        517.202218      0.616839                    0.016188          1.0   \nstd         816.021053      0.486161                    0.134774          0.0   \nmin           0.000000      0.000000                    0.000000          1.0   \n25%         267.110000      0.000000                    0.000000          1.0   \n50%         408.520000      1.000000                    0.000000          1.0   \n75%         652.580000      1.000000                    0.000000          1.0   \nmax       40500.340000      1.000000                    4.000000          1.0   \n\n       application_type  acc_now_delinq   tot_coll_amt   tot_cur_bal  \\\ncount      68817.000000         68817.0   68817.000000  6.881700e+04   \nmean           0.139660             0.0     188.664298  1.634976e+05   \nstd            0.346637             0.0    1808.457195  1.723699e+05   \nmin            0.000000             0.0       0.000000  2.350000e+02   \n25%            0.000000             0.0       0.000000  3.570000e+04   \n50%            0.000000             0.0       0.000000  9.960600e+04   \n75%            0.000000             0.0       0.000000  2.472060e+05   \nmax            1.000000             0.0  159199.000000  3.140082e+06   \n\n        open_acc_6m   open_act_il   open_il_12m   open_il_24m  \\\ncount  68817.000000  68817.000000  68817.000000  68817.000000   \nmean       1.023047      3.290481      0.843730      1.909644   \nstd        1.176782      2.965579      0.970543      1.544994   \nmin        0.000000      0.000000      0.000000      0.000000   \n25%        0.000000      2.000000      0.000000      1.000000   \n50%        1.000000      2.000000      1.000000      2.000000   \n75%        2.000000      4.000000      1.000000      3.000000   \nmax       14.000000     63.000000      6.000000     22.000000   \n\n       mths_since_rcnt_il  total_bal_il      il_util   open_rv_12m  \\\ncount        68817.000000  6.881700e+04  68817.00000  68817.000000   \nmean            14.303152  4.324044e+04     69.21191      1.240042   \nstd             13.972619  4.956130e+04     22.33711      1.471745   \nmin              0.000000  1.000000e+00      0.00000      0.000000   \n25%              6.000000  1.422300e+04     56.00000      0.000000   \n50%             11.000000  2.862600e+04     71.00000      1.000000   \n75%             18.000000  5.406500e+04     85.00000      2.000000   \nmax            389.000000  1.260281e+06    313.00000     18.000000   \n\n        open_rv_24m     max_bal_bc      all_util  total_rev_hi_lim  \\\ncount  68817.000000   68817.000000  68817.000000      68817.000000   \nmean       2.622245    6297.491710     55.702472      42431.895360   \nstd        2.502608    5702.281757     18.495480      37166.229316   \nmin        0.000000       0.000000      1.000000        200.000000   \n25%        1.000000    2558.000000     43.000000      19200.000000   \n50%        2.000000    4874.000000     56.000000      32800.000000   \n75%        4.000000    8321.000000     68.000000      54100.000000   \nmax       44.000000  207484.000000    216.000000     759500.000000   \n\n             inq_fi   total_cu_tl  inq_last_12m  acc_open_past_24mths  \\\ncount  68817.000000  68817.000000  68817.000000          68817.000000   \nmean       1.382071      1.687795      2.189023              4.827572   \nstd        1.543220      2.852664      2.396186              3.145377   \nmin        0.000000      0.000000      0.000000              0.000000   \n25%        0.000000      0.000000      1.000000              3.000000   \n50%        1.000000      1.000000      2.000000              4.000000   \n75%        2.000000      2.000000      3.000000              6.000000   \nmax       29.000000     70.000000     42.000000             45.000000   \n\n         avg_cur_bal  bc_open_to_buy       bc_util  chargeoff_within_12_mths  \\\ncount   68817.000000    68817.000000  68817.000000              68817.000000   \nmean    14142.936193    16991.852667     48.330667                  0.006830   \nstd     15863.878993    20447.276820     28.106287                  0.087327   \nmin        20.000000        0.000000      0.000000                  0.000000   \n25%      3505.000000     3644.000000     25.400000                  0.000000   \n50%      8261.000000    10239.000000     46.400000                  0.000000   \n75%     19859.000000    22806.000000     71.100000                  0.000000   \nmax    448583.000000   506507.000000    169.500000                  2.000000   \n\n        delinq_amnt  mo_sin_old_il_acct  mo_sin_old_rev_tl_op  \\\ncount  68817.000000        68817.000000          68817.000000   \nmean       2.347065          125.468605            175.136841   \nstd      301.312407           56.968853             99.149467   \nmin        0.000000            0.000000              5.000000   \n25%        0.000000           87.000000            101.000000   \n50%        0.000000          132.000000            157.000000   \n75%        0.000000          159.000000            226.000000   \nmax    65000.000000          606.000000            902.000000   \n\n       mo_sin_rcnt_rev_tl_op  mo_sin_rcnt_tl      mort_acc  \\\ncount           68817.000000    68817.000000  68817.000000   \nmean               14.294215        7.179781      1.441882   \nstd                17.417118        6.303066      1.747777   \nmin                 0.000000        0.000000      0.000000   \n25%                 4.000000        3.000000      0.000000   \n50%                 9.000000        5.000000      1.000000   \n75%                19.000000       10.000000      2.000000   \nmax               564.000000      170.000000     20.000000   \n\n       mths_since_recent_bc  mths_since_recent_inq  num_accts_ever_120_pd  \\\ncount          68817.000000           68817.000000           68817.000000   \nmean              24.714954               7.688028               0.472485   \nstd               32.130889               6.034861               1.410819   \nmin                0.000000               0.000000               0.000000   \n25%                6.000000               3.000000               0.000000   \n50%               15.000000               6.000000               0.000000   \n75%               31.000000              12.000000               0.000000   \nmax              564.000000              24.000000              34.000000   \n\n       num_actv_bc_tl  num_actv_rev_tl   num_bc_sats     num_bc_tl  \\\ncount    68817.000000     68817.000000  68817.000000  68817.000000   \nmean         3.806123         5.648038      5.135156      7.414403   \nstd          2.464504         3.470941      3.230651      4.581371   \nmin          0.000000         0.000000      0.000000      1.000000   \n25%          2.000000         3.000000      3.000000      4.000000   \n50%          3.000000         5.000000      4.000000      6.000000   \n75%          5.000000         7.000000      7.000000     10.000000   \nmax         26.000000        43.000000     43.000000     60.000000   \n\n          num_il_tl  num_op_rev_tl  num_rev_accts  num_rev_tl_bal_gt_0  \\\ncount  68817.000000   68817.000000   68817.000000         68817.000000   \nmean       9.500153       8.630818      13.517663             5.653036   \nstd        7.573846       5.056994       8.026158             3.472679   \nmin        1.000000       1.000000       2.000000             0.000000   \n25%        4.000000       5.000000       8.000000             3.000000   \n50%        7.000000       8.000000      12.000000             5.000000   \n75%       12.000000      11.000000      17.000000             7.000000   \nmax      149.000000      70.000000      98.000000            43.000000   \n\n           num_sats  num_tl_120dpd_2m  num_tl_30dpd  num_tl_90g_dpd_24m  \\\ncount  68817.000000           68817.0       68817.0        68817.000000   \nmean      12.571995               0.0           0.0            0.052138   \nstd        6.021318               0.0           0.0            0.390633   \nmin        2.000000               0.0           0.0            0.000000   \n25%        8.000000               0.0           0.0            0.000000   \n50%       11.000000               0.0           0.0            0.000000   \n75%       16.000000               0.0           0.0            0.000000   \nmax       72.000000               0.0           0.0           18.000000   \n\n       num_tl_op_past_12m  pct_tl_nvr_dlq  percent_bc_gt_75  \\\ncount        68817.000000    68817.000000      68817.000000   \nmean             2.219423       95.057627         30.626217   \nstd              1.897432        8.326426         33.631463   \nmin              0.000000       20.000000          0.000000   \n25%              1.000000       93.000000          0.000000   \n50%              2.000000      100.000000         20.000000   \n75%              3.000000      100.000000         50.000000   \nmax             19.000000      100.000000        100.000000   \n\n       pub_rec_bankruptcies  tax_liens  tot_hi_cred_lim  total_bal_ex_mort  \\\ncount          68817.000000    68817.0     6.881700e+04       6.881700e+04   \nmean               0.125972        0.0     2.100332e+05       6.133843e+04   \nstd                0.336732        0.0     1.928088e+05       5.738798e+04   \nmin                0.000000        0.0     3.600000e+03       2.350000e+02   \n25%                0.000000        0.0     6.697700e+04       2.650300e+04   \n50%                0.000000        0.0     1.467100e+05       4.535700e+04   \n75%                0.000000        0.0     3.036400e+05       7.657000e+04   \nmax                4.000000        0.0     3.292782e+06       1.295455e+06   \n\n       total_bc_limit  total_il_high_credit_limit  hardship_flag  \\\ncount    68817.000000                6.881700e+04        68817.0   \nmean     29734.128558                5.572240e+04            0.0   \nstd      26795.394232                5.095845e+04            0.0   \nmin        100.000000                1.270000e+02            0.0   \n25%      11600.000000                2.288000e+04            0.0   \n50%      22100.000000                4.200000e+04            0.0   \n75%      39300.000000                7.249900e+04            0.0   \nmax     509400.000000                1.426964e+06            0.0   \n\n       debt_settlement_flag  issue_d_code  \ncount               68817.0  68817.000000  \nmean                    0.0      1.726172  \nstd                     0.0      0.743862  \nmin                     0.0      1.000000  \n25%                     0.0      1.000000  \n50%                     0.0      2.000000  \n75%                     0.0      2.000000  \nmax                     0.0      3.000000  ",
      "text/html": "<div>\n<style scoped>\n    .dataframe tbody tr th:only-of-type {\n        vertical-align: middle;\n    }\n\n    .dataframe tbody tr th {\n        vertical-align: top;\n    }\n\n    .dataframe thead th {\n        text-align: right;\n    }\n</style>\n<table border=\"1\" class=\"dataframe\">\n  <thead>\n    <tr style=\"text-align: right;\">\n      <th></th>\n      <th>loan_amnt</th>\n      <th>int_rate</th>\n      <th>installment</th>\n      <th>home_ownership</th>\n      <th>annual_inc</th>\n      <th>verification_status</th>\n      <th>pymnt_plan</th>\n      <th>dti</th>\n      <th>delinq_2yrs</th>\n      <th>inq_last_6mths</th>\n      <th>open_acc</th>\n      <th>pub_rec</th>\n      <th>revol_bal</th>\n      <th>total_acc</th>\n      <th>initial_list_status</th>\n      <th>out_prncp</th>\n      <th>out_prncp_inv</th>\n      <th>total_pymnt</th>\n      <th>total_pymnt_inv</th>\n      <th>total_rec_prncp</th>\n      <th>total_rec_int</th>\n      <th>total_rec_late_fee</th>\n      <th>recoveries</th>\n      <th>collection_recovery_fee</th>\n      <th>last_pymnt_amnt</th>\n      <th>next_pymnt_d</th>\n      <th>collections_12_mths_ex_med</th>\n      <th>policy_code</th>\n      <th>application_type</th>\n      <th>acc_now_delinq</th>\n      <th>tot_coll_amt</th>\n      <th>tot_cur_bal</th>\n      <th>open_acc_6m</th>\n      <th>open_act_il</th>\n      <th>open_il_12m</th>\n      <th>open_il_24m</th>\n      <th>mths_since_rcnt_il</th>\n      <th>total_bal_il</th>\n      <th>il_util</th>\n      <th>open_rv_12m</th>\n      <th>open_rv_24m</th>\n      <th>max_bal_bc</th>\n      <th>all_util</th>\n      <th>total_rev_hi_lim</th>\n      <th>inq_fi</th>\n      <th>total_cu_tl</th>\n      <th>inq_last_12m</th>\n      <th>acc_open_past_24mths</th>\n      <th>avg_cur_bal</th>\n      <th>bc_open_to_buy</th>\n      <th>bc_util</th>\n      <th>chargeoff_within_12_mths</th>\n      <th>delinq_amnt</th>\n      <th>mo_sin_old_il_acct</th>\n      <th>mo_sin_old_rev_tl_op</th>\n      <th>mo_sin_rcnt_rev_tl_op</th>\n      <th>mo_sin_rcnt_tl</th>\n      <th>mort_acc</th>\n      <th>mths_since_recent_bc</th>\n      <th>mths_since_recent_inq</th>\n      <th>num_accts_ever_120_pd</th>\n      <th>num_actv_bc_tl</th>\n      <th>num_actv_rev_tl</th>\n      <th>num_bc_sats</th>\n      <th>num_bc_tl</th>\n      <th>num_il_tl</th>\n      <th>num_op_rev_tl</th>\n      <th>num_rev_accts</th>\n      <th>num_rev_tl_bal_gt_0</th>\n      <th>num_sats</th>\n      <th>num_tl_120dpd_2m</th>\n      <th>num_tl_30dpd</th>\n      <th>num_tl_90g_dpd_24m</th>\n      <th>num_tl_op_past_12m</th>\n      <th>pct_tl_nvr_dlq</th>\n      <th>percent_bc_gt_75</th>\n      <th>pub_rec_bankruptcies</th>\n      <th>tax_liens</th>\n      <th>tot_hi_cred_lim</th>\n      <th>total_bal_ex_mort</th>\n      <th>total_bc_limit</th>\n      <th>total_il_high_credit_limit</th>\n      <th>hardship_flag</th>\n      <th>debt_settlement_flag</th>\n      <th>issue_d_code</th>\n    </tr>\n  </thead>\n  <tbody>\n    <tr>\n      <th>count</th>\n      <td>68817.000000</td>\n      <td>68817.000000</td>\n      <td>68817.000000</td>\n      <td>68817.000000</td>\n      <td>6.881700e+04</td>\n      <td>68817.000000</td>\n      <td>68817.0</td>\n      <td>68817.000000</td>\n      <td>68817.000000</td>\n      <td>68817.000000</td>\n      <td>68817.000000</td>\n      <td>68817.000000</td>\n      <td>68817.000000</td>\n      <td>68817.000000</td>\n      <td>68817.000000</td>\n      <td>68817.000000</td>\n      <td>68817.000000</td>\n      <td>68817.000000</td>\n      <td>68817.000000</td>\n      <td>68817.000000</td>\n      <td>68817.000000</td>\n      <td>68817.000000</td>\n      <td>68817.0</td>\n      <td>68817.0</td>\n      <td>68817.000000</td>\n      <td>68817.000000</td>\n      <td>68817.000000</td>\n      <td>68817.0</td>\n      <td>68817.000000</td>\n      <td>68817.0</td>\n      <td>68817.000000</td>\n      <td>6.881700e+04</td>\n      <td>68817.000000</td>\n      <td>68817.000000</td>\n      <td>68817.000000</td>\n      <td>68817.000000</td>\n      <td>68817.000000</td>\n      <td>6.881700e+04</td>\n      <td>68817.00000</td>\n      <td>68817.000000</td>\n      <td>68817.000000</td>\n      <td>68817.000000</td>\n      <td>68817.000000</td>\n      <td>68817.000000</td>\n      <td>68817.000000</td>\n      <td>68817.000000</td>\n      <td>68817.000000</td>\n      <td>68817.000000</td>\n      <td>68817.000000</td>\n      <td>68817.000000</td>\n      <td>68817.000000</td>\n      <td>68817.000000</td>\n      <td>68817.000000</td>\n      <td>68817.000000</td>\n      <td>68817.000000</td>\n      <td>68817.000000</td>\n      <td>68817.000000</td>\n      <td>68817.000000</td>\n      <td>68817.000000</td>\n      <td>68817.000000</td>\n      <td>68817.000000</td>\n      <td>68817.000000</td>\n      <td>68817.000000</td>\n      <td>68817.000000</td>\n      <td>68817.000000</td>\n      <td>68817.000000</td>\n      <td>68817.000000</td>\n      <td>68817.000000</td>\n      <td>68817.000000</td>\n      <td>68817.000000</td>\n      <td>68817.0</td>\n      <td>68817.0</td>\n      <td>68817.000000</td>\n      <td>68817.000000</td>\n      <td>68817.000000</td>\n      <td>68817.000000</td>\n      <td>68817.000000</td>\n      <td>68817.0</td>\n      <td>6.881700e+04</td>\n      <td>6.881700e+04</td>\n      <td>68817.000000</td>\n      <td>6.881700e+04</td>\n      <td>68817.0</td>\n      <td>68817.0</td>\n      <td>68817.000000</td>\n    </tr>\n    <tr>\n      <th>mean</th>\n      <td>16677.594562</td>\n      <td>0.127718</td>\n      <td>480.652863</td>\n      <td>1.812779</td>\n      <td>8.821371e+04</td>\n      <td>0.669994</td>\n      <td>0.0</td>\n      <td>21.778153</td>\n      <td>0.217766</td>\n      <td>0.497697</td>\n      <td>12.587340</td>\n      <td>0.126030</td>\n      <td>17604.142828</td>\n      <td>24.666347</td>\n      <td>0.876121</td>\n      <td>16018.845833</td>\n      <td>16015.919519</td>\n      <td>970.639473</td>\n      <td>970.431151</td>\n      <td>658.748750</td>\n      <td>311.855687</td>\n      <td>0.035072</td>\n      <td>0.0</td>\n      <td>0.0</td>\n      <td>517.202218</td>\n      <td>0.616839</td>\n      <td>0.016188</td>\n      <td>1.0</td>\n      <td>0.139660</td>\n      <td>0.0</td>\n      <td>188.664298</td>\n      <td>1.634976e+05</td>\n      <td>1.023047</td>\n      <td>3.290481</td>\n      <td>0.843730</td>\n      <td>1.909644</td>\n      <td>14.303152</td>\n      <td>4.324044e+04</td>\n      <td>69.21191</td>\n      <td>1.240042</td>\n      <td>2.622245</td>\n      <td>6297.491710</td>\n      <td>55.702472</td>\n      <td>42431.895360</td>\n      <td>1.382071</td>\n      <td>1.687795</td>\n      <td>2.189023</td>\n      <td>4.827572</td>\n      <td>14142.936193</td>\n      <td>16991.852667</td>\n      <td>48.330667</td>\n      <td>0.006830</td>\n      <td>2.347065</td>\n      <td>125.468605</td>\n      <td>175.136841</td>\n      <td>14.294215</td>\n      <td>7.179781</td>\n      <td>1.441882</td>\n      <td>24.714954</td>\n      <td>7.688028</td>\n      <td>0.472485</td>\n      <td>3.806123</td>\n      <td>5.648038</td>\n      <td>5.135156</td>\n      <td>7.414403</td>\n      <td>9.500153</td>\n      <td>8.630818</td>\n      <td>13.517663</td>\n      <td>5.653036</td>\n      <td>12.571995</td>\n      <td>0.0</td>\n      <td>0.0</td>\n      <td>0.052138</td>\n      <td>2.219423</td>\n      <td>95.057627</td>\n      <td>30.626217</td>\n      <td>0.125972</td>\n      <td>0.0</td>\n      <td>2.100332e+05</td>\n      <td>6.133843e+04</td>\n      <td>29734.128558</td>\n      <td>5.572240e+04</td>\n      <td>0.0</td>\n      <td>0.0</td>\n      <td>1.726172</td>\n    </tr>\n    <tr>\n      <th>std</th>\n      <td>10277.348590</td>\n      <td>0.048130</td>\n      <td>288.062432</td>\n      <td>0.941313</td>\n      <td>1.155800e+05</td>\n      <td>0.719105</td>\n      <td>0.0</td>\n      <td>20.199244</td>\n      <td>0.718367</td>\n      <td>0.758122</td>\n      <td>6.022869</td>\n      <td>0.336797</td>\n      <td>21835.880400</td>\n      <td>12.318917</td>\n      <td>0.329446</td>\n      <td>10002.695495</td>\n      <td>10004.985940</td>\n      <td>1229.563301</td>\n      <td>1229.569864</td>\n      <td>1126.237377</td>\n      <td>279.786954</td>\n      <td>1.086720</td>\n      <td>0.0</td>\n      <td>0.0</td>\n      <td>816.021053</td>\n      <td>0.486161</td>\n      <td>0.134774</td>\n      <td>0.0</td>\n      <td>0.346637</td>\n      <td>0.0</td>\n      <td>1808.457195</td>\n      <td>1.723699e+05</td>\n      <td>1.176782</td>\n      <td>2.965579</td>\n      <td>0.970543</td>\n      <td>1.544994</td>\n      <td>13.972619</td>\n      <td>4.956130e+04</td>\n      <td>22.33711</td>\n      <td>1.471745</td>\n      <td>2.502608</td>\n      <td>5702.281757</td>\n      <td>18.495480</td>\n      <td>37166.229316</td>\n      <td>1.543220</td>\n      <td>2.852664</td>\n      <td>2.396186</td>\n      <td>3.145377</td>\n      <td>15863.878993</td>\n      <td>20447.276820</td>\n      <td>28.106287</td>\n      <td>0.087327</td>\n      <td>301.312407</td>\n      <td>56.968853</td>\n      <td>99.149467</td>\n      <td>17.417118</td>\n      <td>6.303066</td>\n      <td>1.747777</td>\n      <td>32.130889</td>\n      <td>6.034861</td>\n      <td>1.410819</td>\n      <td>2.464504</td>\n      <td>3.470941</td>\n      <td>3.230651</td>\n      <td>4.581371</td>\n      <td>7.573846</td>\n      <td>5.056994</td>\n      <td>8.026158</td>\n      <td>3.472679</td>\n      <td>6.021318</td>\n      <td>0.0</td>\n      <td>0.0</td>\n      <td>0.390633</td>\n      <td>1.897432</td>\n      <td>8.326426</td>\n      <td>33.631463</td>\n      <td>0.336732</td>\n      <td>0.0</td>\n      <td>1.928088e+05</td>\n      <td>5.738798e+04</td>\n      <td>26795.394232</td>\n      <td>5.095845e+04</td>\n      <td>0.0</td>\n      <td>0.0</td>\n      <td>0.743862</td>\n    </tr>\n    <tr>\n      <th>min</th>\n      <td>1000.000000</td>\n      <td>0.060000</td>\n      <td>30.890000</td>\n      <td>0.000000</td>\n      <td>4.000000e+01</td>\n      <td>0.000000</td>\n      <td>0.0</td>\n      <td>0.000000</td>\n      <td>0.000000</td>\n      <td>0.000000</td>\n      <td>2.000000</td>\n      <td>0.000000</td>\n      <td>0.000000</td>\n      <td>3.000000</td>\n      <td>0.000000</td>\n      <td>0.000000</td>\n      <td>0.000000</td>\n      <td>0.000000</td>\n      <td>0.000000</td>\n      <td>0.000000</td>\n      <td>0.000000</td>\n      <td>0.000000</td>\n      <td>0.0</td>\n      <td>0.0</td>\n      <td>0.000000</td>\n      <td>0.000000</td>\n      <td>0.000000</td>\n      <td>1.0</td>\n      <td>0.000000</td>\n      <td>0.0</td>\n      <td>0.000000</td>\n      <td>2.350000e+02</td>\n      <td>0.000000</td>\n      <td>0.000000</td>\n      <td>0.000000</td>\n      <td>0.000000</td>\n      <td>0.000000</td>\n      <td>1.000000e+00</td>\n      <td>0.00000</td>\n      <td>0.000000</td>\n      <td>0.000000</td>\n      <td>0.000000</td>\n      <td>1.000000</td>\n      <td>200.000000</td>\n      <td>0.000000</td>\n      <td>0.000000</td>\n      <td>0.000000</td>\n      <td>0.000000</td>\n      <td>20.000000</td>\n      <td>0.000000</td>\n      <td>0.000000</td>\n      <td>0.000000</td>\n      <td>0.000000</td>\n      <td>0.000000</td>\n      <td>5.000000</td>\n      <td>0.000000</td>\n      <td>0.000000</td>\n      <td>0.000000</td>\n      <td>0.000000</td>\n      <td>0.000000</td>\n      <td>0.000000</td>\n      <td>0.000000</td>\n      <td>0.000000</td>\n      <td>0.000000</td>\n      <td>1.000000</td>\n      <td>1.000000</td>\n      <td>1.000000</td>\n      <td>2.000000</td>\n      <td>0.000000</td>\n      <td>2.000000</td>\n      <td>0.0</td>\n      <td>0.0</td>\n      <td>0.000000</td>\n      <td>0.000000</td>\n      <td>20.000000</td>\n      <td>0.000000</td>\n      <td>0.000000</td>\n      <td>0.0</td>\n      <td>3.600000e+03</td>\n      <td>2.350000e+02</td>\n      <td>100.000000</td>\n      <td>1.270000e+02</td>\n      <td>0.0</td>\n      <td>0.0</td>\n      <td>1.000000</td>\n    </tr>\n    <tr>\n      <th>25%</th>\n      <td>9000.000000</td>\n      <td>0.088100</td>\n      <td>265.730000</td>\n      <td>1.000000</td>\n      <td>5.000000e+04</td>\n      <td>0.000000</td>\n      <td>0.0</td>\n      <td>13.890000</td>\n      <td>0.000000</td>\n      <td>0.000000</td>\n      <td>8.000000</td>\n      <td>0.000000</td>\n      <td>6293.000000</td>\n      <td>16.000000</td>\n      <td>1.000000</td>\n      <td>8578.800000</td>\n      <td>8576.500000</td>\n      <td>403.760000</td>\n      <td>403.550000</td>\n      <td>250.370000</td>\n      <td>115.440000</td>\n      <td>0.000000</td>\n      <td>0.0</td>\n      <td>0.0</td>\n      <td>267.110000</td>\n      <td>0.000000</td>\n      <td>0.000000</td>\n      <td>1.0</td>\n      <td>0.000000</td>\n      <td>0.0</td>\n      <td>0.000000</td>\n      <td>3.570000e+04</td>\n      <td>0.000000</td>\n      <td>2.000000</td>\n      <td>0.000000</td>\n      <td>1.000000</td>\n      <td>6.000000</td>\n      <td>1.422300e+04</td>\n      <td>56.00000</td>\n      <td>0.000000</td>\n      <td>1.000000</td>\n      <td>2558.000000</td>\n      <td>43.000000</td>\n      <td>19200.000000</td>\n      <td>0.000000</td>\n      <td>0.000000</td>\n      <td>1.000000</td>\n      <td>3.000000</td>\n      <td>3505.000000</td>\n      <td>3644.000000</td>\n      <td>25.400000</td>\n      <td>0.000000</td>\n      <td>0.000000</td>\n      <td>87.000000</td>\n      <td>101.000000</td>\n      <td>4.000000</td>\n      <td>3.000000</td>\n      <td>0.000000</td>\n      <td>6.000000</td>\n      <td>3.000000</td>\n      <td>0.000000</td>\n      <td>2.000000</td>\n      <td>3.000000</td>\n      <td>3.000000</td>\n      <td>4.000000</td>\n      <td>4.000000</td>\n      <td>5.000000</td>\n      <td>8.000000</td>\n      <td>3.000000</td>\n      <td>8.000000</td>\n      <td>0.0</td>\n      <td>0.0</td>\n      <td>0.000000</td>\n      <td>1.000000</td>\n      <td>93.000000</td>\n      <td>0.000000</td>\n      <td>0.000000</td>\n      <td>0.0</td>\n      <td>6.697700e+04</td>\n      <td>2.650300e+04</td>\n      <td>11600.000000</td>\n      <td>2.288000e+04</td>\n      <td>0.0</td>\n      <td>0.0</td>\n      <td>1.000000</td>\n    </tr>\n    <tr>\n      <th>50%</th>\n      <td>15000.000000</td>\n      <td>0.118000</td>\n      <td>404.560000</td>\n      <td>1.000000</td>\n      <td>7.300000e+04</td>\n      <td>1.000000</td>\n      <td>0.0</td>\n      <td>19.760000</td>\n      <td>0.000000</td>\n      <td>0.000000</td>\n      <td>11.000000</td>\n      <td>0.000000</td>\n      <td>12068.000000</td>\n      <td>23.000000</td>\n      <td>1.000000</td>\n      <td>14067.750000</td>\n      <td>14061.030000</td>\n      <td>710.790000</td>\n      <td>710.790000</td>\n      <td>449.890000</td>\n      <td>225.250000</td>\n      <td>0.000000</td>\n      <td>0.0</td>\n      <td>0.0</td>\n      <td>408.520000</td>\n      <td>1.000000</td>\n      <td>0.000000</td>\n      <td>1.0</td>\n      <td>0.000000</td>\n      <td>0.0</td>\n      <td>0.000000</td>\n      <td>9.960600e+04</td>\n      <td>1.000000</td>\n      <td>2.000000</td>\n      <td>1.000000</td>\n      <td>2.000000</td>\n      <td>11.000000</td>\n      <td>2.862600e+04</td>\n      <td>71.00000</td>\n      <td>1.000000</td>\n      <td>2.000000</td>\n      <td>4874.000000</td>\n      <td>56.000000</td>\n      <td>32800.000000</td>\n      <td>1.000000</td>\n      <td>1.000000</td>\n      <td>2.000000</td>\n      <td>4.000000</td>\n      <td>8261.000000</td>\n      <td>10239.000000</td>\n      <td>46.400000</td>\n      <td>0.000000</td>\n      <td>0.000000</td>\n      <td>132.000000</td>\n      <td>157.000000</td>\n      <td>9.000000</td>\n      <td>5.000000</td>\n      <td>1.000000</td>\n      <td>15.000000</td>\n      <td>6.000000</td>\n      <td>0.000000</td>\n      <td>3.000000</td>\n      <td>5.000000</td>\n      <td>4.000000</td>\n      <td>6.000000</td>\n      <td>7.000000</td>\n      <td>8.000000</td>\n      <td>12.000000</td>\n      <td>5.000000</td>\n      <td>11.000000</td>\n      <td>0.0</td>\n      <td>0.0</td>\n      <td>0.000000</td>\n      <td>2.000000</td>\n      <td>100.000000</td>\n      <td>20.000000</td>\n      <td>0.000000</td>\n      <td>0.0</td>\n      <td>1.467100e+05</td>\n      <td>4.535700e+04</td>\n      <td>22100.000000</td>\n      <td>4.200000e+04</td>\n      <td>0.0</td>\n      <td>0.0</td>\n      <td>2.000000</td>\n    </tr>\n    <tr>\n      <th>75%</th>\n      <td>24000.000000</td>\n      <td>0.155700</td>\n      <td>648.100000</td>\n      <td>3.000000</td>\n      <td>1.040000e+05</td>\n      <td>1.000000</td>\n      <td>0.0</td>\n      <td>26.660000</td>\n      <td>0.000000</td>\n      <td>1.000000</td>\n      <td>16.000000</td>\n      <td>0.000000</td>\n      <td>21735.000000</td>\n      <td>31.000000</td>\n      <td>1.000000</td>\n      <td>22860.700000</td>\n      <td>22860.490000</td>\n      <td>1214.600000</td>\n      <td>1214.590000</td>\n      <td>762.170000</td>\n      <td>415.710000</td>\n      <td>0.000000</td>\n      <td>0.0</td>\n      <td>0.0</td>\n      <td>652.580000</td>\n      <td>1.000000</td>\n      <td>0.000000</td>\n      <td>1.0</td>\n      <td>0.000000</td>\n      <td>0.0</td>\n      <td>0.000000</td>\n      <td>2.472060e+05</td>\n      <td>2.000000</td>\n      <td>4.000000</td>\n      <td>1.000000</td>\n      <td>3.000000</td>\n      <td>18.000000</td>\n      <td>5.406500e+04</td>\n      <td>85.00000</td>\n      <td>2.000000</td>\n      <td>4.000000</td>\n      <td>8321.000000</td>\n      <td>68.000000</td>\n      <td>54100.000000</td>\n      <td>2.000000</td>\n      <td>2.000000</td>\n      <td>3.000000</td>\n      <td>6.000000</td>\n      <td>19859.000000</td>\n      <td>22806.000000</td>\n      <td>71.100000</td>\n      <td>0.000000</td>\n      <td>0.000000</td>\n      <td>159.000000</td>\n      <td>226.000000</td>\n      <td>19.000000</td>\n      <td>10.000000</td>\n      <td>2.000000</td>\n      <td>31.000000</td>\n      <td>12.000000</td>\n      <td>0.000000</td>\n      <td>5.000000</td>\n      <td>7.000000</td>\n      <td>7.000000</td>\n      <td>10.000000</td>\n      <td>12.000000</td>\n      <td>11.000000</td>\n      <td>17.000000</td>\n      <td>7.000000</td>\n      <td>16.000000</td>\n      <td>0.0</td>\n      <td>0.0</td>\n      <td>0.000000</td>\n      <td>3.000000</td>\n      <td>100.000000</td>\n      <td>50.000000</td>\n      <td>0.000000</td>\n      <td>0.0</td>\n      <td>3.036400e+05</td>\n      <td>7.657000e+04</td>\n      <td>39300.000000</td>\n      <td>7.249900e+04</td>\n      <td>0.0</td>\n      <td>0.0</td>\n      <td>2.000000</td>\n    </tr>\n    <tr>\n      <th>max</th>\n      <td>40000.000000</td>\n      <td>0.308400</td>\n      <td>1676.230000</td>\n      <td>3.000000</td>\n      <td>8.797500e+06</td>\n      <td>2.000000</td>\n      <td>0.0</td>\n      <td>999.000000</td>\n      <td>18.000000</td>\n      <td>5.000000</td>\n      <td>72.000000</td>\n      <td>4.000000</td>\n      <td>587191.000000</td>\n      <td>164.000000</td>\n      <td>1.000000</td>\n      <td>40000.000000</td>\n      <td>40000.000000</td>\n      <td>41418.981165</td>\n      <td>41418.980000</td>\n      <td>40000.000000</td>\n      <td>2735.400000</td>\n      <td>75.240000</td>\n      <td>0.0</td>\n      <td>0.0</td>\n      <td>40500.340000</td>\n      <td>1.000000</td>\n      <td>4.000000</td>\n      <td>1.0</td>\n      <td>1.000000</td>\n      <td>0.0</td>\n      <td>159199.000000</td>\n      <td>3.140082e+06</td>\n      <td>14.000000</td>\n      <td>63.000000</td>\n      <td>6.000000</td>\n      <td>22.000000</td>\n      <td>389.000000</td>\n      <td>1.260281e+06</td>\n      <td>313.00000</td>\n      <td>18.000000</td>\n      <td>44.000000</td>\n      <td>207484.000000</td>\n      <td>216.000000</td>\n      <td>759500.000000</td>\n      <td>29.000000</td>\n      <td>70.000000</td>\n      <td>42.000000</td>\n      <td>45.000000</td>\n      <td>448583.000000</td>\n      <td>506507.000000</td>\n      <td>169.500000</td>\n      <td>2.000000</td>\n      <td>65000.000000</td>\n      <td>606.000000</td>\n      <td>902.000000</td>\n      <td>564.000000</td>\n      <td>170.000000</td>\n      <td>20.000000</td>\n      <td>564.000000</td>\n      <td>24.000000</td>\n      <td>34.000000</td>\n      <td>26.000000</td>\n      <td>43.000000</td>\n      <td>43.000000</td>\n      <td>60.000000</td>\n      <td>149.000000</td>\n      <td>70.000000</td>\n      <td>98.000000</td>\n      <td>43.000000</td>\n      <td>72.000000</td>\n      <td>0.0</td>\n      <td>0.0</td>\n      <td>18.000000</td>\n      <td>19.000000</td>\n      <td>100.000000</td>\n      <td>100.000000</td>\n      <td>4.000000</td>\n      <td>0.0</td>\n      <td>3.292782e+06</td>\n      <td>1.295455e+06</td>\n      <td>509400.000000</td>\n      <td>1.426964e+06</td>\n      <td>0.0</td>\n      <td>0.0</td>\n      <td>3.000000</td>\n    </tr>\n  </tbody>\n</table>\n</div>"
     },
     "metadata": {},
     "execution_count": 46
    }
   ],
   "source": [
    "X.describe()"
   ]
  },
  {
   "cell_type": "code",
   "execution_count": 47,
   "metadata": {},
   "outputs": [
    {
     "output_type": "execute_result",
     "data": {
      "text/plain": "low_risk     68470\nhigh_risk      347\nName: loan_status, dtype: int64"
     },
     "metadata": {},
     "execution_count": 47
    }
   ],
   "source": [
    "# Check the balance of our target values\n",
    "y.value_counts()"
   ]
  },
  {
   "cell_type": "code",
   "execution_count": 48,
   "metadata": {},
   "outputs": [
    {
     "output_type": "execute_result",
     "data": {
      "text/plain": "Counter({'low_risk': 51366, 'high_risk': 246})"
     },
     "metadata": {},
     "execution_count": 48
    }
   ],
   "source": [
    "# Create X_train, X_test, y_train, y_test\n",
    "from sklearn.model_selection import train_test_split\n",
    "X_train, X_test, y_train, y_test = train_test_split(X, y, random_state=1)\n",
    "Counter(y_train)"
   ]
  },
  {
   "cell_type": "markdown",
   "metadata": {},
   "source": [
    "# Oversampling\n",
    "\n",
    "In this section, you will compare two oversampling algorithms to determine which algorithm results in the best performance. You will oversample the data using the naive random oversampling algorithm and the SMOTE algorithm. For each algorithm, be sure to complete the folliowing steps:\n",
    "\n",
    "1. View the count of the target classes using `Counter` from the collections library. \n",
    "3. Use the resampled data to train a logistic regression model.\n",
    "3. Calculate the balanced accuracy score from sklearn.metrics.\n",
    "4. Print the confusion matrix from sklearn.metrics.\n",
    "5. Generate a classication report using the `imbalanced_classification_report` from imbalanced-learn.\n",
    "\n",
    "Note: Use a random state of 1 for each sampling algorithm to ensure consistency between tests"
   ]
  },
  {
   "cell_type": "markdown",
   "metadata": {},
   "source": [
    "### Naive Random Oversampling"
   ]
  },
  {
   "cell_type": "code",
   "execution_count": 49,
   "metadata": {},
   "outputs": [
    {
     "output_type": "execute_result",
     "data": {
      "text/plain": "Counter({'low_risk': 51366, 'high_risk': 51366})"
     },
     "metadata": {},
     "execution_count": 49
    }
   ],
   "source": [
    "# Resample the training data with the RandomOversampler\n",
    "from imblearn.over_sampling import RandomOverSampler\n",
    "ros = RandomOverSampler(random_state=1)\n",
    "X_resampled, y_resampled = ros.fit_resample(X_train, y_train)\n",
    "\n",
    "Counter(y_resampled)"
   ]
  },
  {
   "cell_type": "code",
   "execution_count": 50,
   "metadata": {},
   "outputs": [
    {
     "output_type": "execute_result",
     "data": {
      "text/plain": "Counter({'low_risk': 51366, 'high_risk': 51366})"
     },
     "metadata": {},
     "execution_count": 50
    }
   ],
   "source": [
    "# Train the Logistic Regression model using the resampled data\n",
    "from sklearn.linear_model import LogisticRegression\n",
    "\n",
    "model = LogisticRegression(solver='lbfgs', random_state=1)\n",
    "model.fit(X_resampled, y_resampled)\n",
    "\n",
    "Counter(y_resampled)"
   ]
  },
  {
   "cell_type": "code",
   "execution_count": 69,
   "metadata": {},
   "outputs": [
    {
     "output_type": "execute_result",
     "data": {
      "text/plain": "array([[  73,   28],\n       [7341, 9763]])"
     },
     "metadata": {},
     "execution_count": 69
    }
   ],
   "source": [
    "# Display the confusion matrix\n",
    "from sklearn.metrics import confusion_matrix\n",
    "\n",
    "y_pred = model.predict(X_test)\n",
    "confusion_matrix(y_test, y_pred) "
   ]
  },
  {
   "cell_type": "code",
   "execution_count": 52,
   "metadata": {},
   "outputs": [
    {
     "output_type": "execute_result",
     "data": {
      "text/plain": "0.6436199279422797"
     },
     "metadata": {},
     "execution_count": 52
    }
   ],
   "source": [
    "# Calculated the balanced accuracy score\n",
    "from sklearn.metrics import balanced_accuracy_score\n",
    "balanced_accuracy_score(y_test, y_pred)"
   ]
  },
  {
   "cell_type": "code",
   "execution_count": 53,
   "metadata": {
    "tags": []
   },
   "outputs": [
    {
     "output_type": "stream",
     "name": "stdout",
     "text": "pre       rec       spe        f1       geo       iba       sup\n\n  high_risk       0.01      0.71      0.57      0.02      0.64      0.42       101\n   low_risk       1.00      0.57      0.71      0.73      0.64      0.40     17104\n\navg / total       0.99      0.58      0.71      0.72      0.64      0.40     17205\n\n"
    }
   ],
   "source": [
    "# Print the imbalanced classification report\n",
    "from imblearn.metrics import classification_report_imbalanced\n",
    "print(classification_report_imbalanced(y_test,y_pred))"
   ]
  },
  {
   "cell_type": "markdown",
   "metadata": {},
   "source": [
    "### SMOTE Oversampling"
   ]
  },
  {
   "cell_type": "code",
   "execution_count": 54,
   "metadata": {},
   "outputs": [
    {
     "output_type": "execute_result",
     "data": {
      "text/plain": "Counter({'low_risk': 51366, 'high_risk': 51366})"
     },
     "metadata": {},
     "execution_count": 54
    }
   ],
   "source": [
    "# Resample the training data with SMOTE\n",
    "from imblearn.over_sampling import SMOTE\n",
    "X_resampled, y_resampled = SMOTE(random_state=1, sampling_strategy='auto').fit_resample(\n",
    "    X_train, y_train\n",
    ")\n",
    "Counter(y_resampled)"
   ]
  },
  {
   "cell_type": "code",
   "execution_count": 55,
   "metadata": {},
   "outputs": [
    {
     "output_type": "execute_result",
     "data": {
      "text/plain": "LogisticRegression(random_state=1)"
     },
     "metadata": {},
     "execution_count": 55
    }
   ],
   "source": [
    "# Train the Logistic Regression model using the resampled data\n",
    "model = LogisticRegression(solver='lbfgs', random_state=1)\n",
    "model.fit(X_resampled, y_resampled)"
   ]
  },
  {
   "cell_type": "code",
   "execution_count": 56,
   "metadata": {},
   "outputs": [
    {
     "output_type": "execute_result",
     "data": {
      "text/plain": "0.6105516977095278"
     },
     "metadata": {},
     "execution_count": 56
    }
   ],
   "source": [
    "# Calculated the balanced accuracy score\n",
    "y_pred = model.predict(X_test)\n",
    "balanced_accuracy_score(y_test, y_pred)"
   ]
  },
  {
   "cell_type": "code",
   "execution_count": 57,
   "metadata": {},
   "outputs": [
    {
     "output_type": "execute_result",
     "data": {
      "text/plain": "array([[   57,    44],\n       [ 5871, 11233]])"
     },
     "metadata": {},
     "execution_count": 57
    }
   ],
   "source": [
    "# Display the confusion matrix\n",
    "confusion_matrix(y_test, y_pred)"
   ]
  },
  {
   "cell_type": "code",
   "execution_count": 58,
   "metadata": {
    "tags": []
   },
   "outputs": [
    {
     "output_type": "stream",
     "name": "stdout",
     "text": "pre       rec       spe        f1       geo       iba       sup\n\n  high_risk       0.01      0.56      0.66      0.02      0.61      0.37       101\n   low_risk       1.00      0.66      0.56      0.79      0.61      0.37     17104\n\navg / total       0.99      0.66      0.56      0.79      0.61      0.37     17205\n\n"
    }
   ],
   "source": [
    "# Print the imbalanced classification report\n",
    "print(classification_report_imbalanced(y_test, y_pred))"
   ]
  },
  {
   "cell_type": "markdown",
   "metadata": {},
   "source": [
    "# Undersampling\n",
    "\n",
    "In this section, you will test an undersampling algorithms to determine which algorithm results in the best performance compared to the oversampling algorithms above. You will undersample the data using the Cluster Centroids algorithm and complete the folliowing steps:\n",
    "\n",
    "1. View the count of the target classes using `Counter` from the collections library. \n",
    "3. Use the resampled data to train a logistic regression model.\n",
    "3. Calculate the balanced accuracy score from sklearn.metrics.\n",
    "4. Print the confusion matrix from sklearn.metrics.\n",
    "5. Generate a classication report using the `imbalanced_classification_report` from imbalanced-learn.\n",
    "\n",
    "Note: Use a random state of 1 for each sampling algorithm to ensure consistency between tests"
   ]
  },
  {
   "cell_type": "code",
   "execution_count": 59,
   "metadata": {},
   "outputs": [
    {
     "output_type": "execute_result",
     "data": {
      "text/plain": "Counter({'high_risk': 246, 'low_risk': 246})"
     },
     "metadata": {},
     "execution_count": 59
    }
   ],
   "source": [
    "# Resample the data using the ClusterCentroids resampler\n",
    "from imblearn.under_sampling import ClusterCentroids\n",
    "cc = ClusterCentroids(random_state=1)\n",
    "X_resampled1, y_resampled1 = cc.fit_resample(X_train, y_train)\n",
    "Counter(y_resampled1)"
   ]
  },
  {
   "cell_type": "code",
   "execution_count": 60,
   "metadata": {},
   "outputs": [
    {
     "output_type": "execute_result",
     "data": {
      "text/plain": "LogisticRegression(random_state=1)"
     },
     "metadata": {},
     "execution_count": 60
    }
   ],
   "source": [
    "# Train the Logistic Regression model using the resampled data\n",
    "from sklearn.linear_model import LogisticRegression\n",
    "model = LogisticRegression(solver='lbfgs', random_state=1)\n",
    "model.fit(X_resampled1, y_resampled1)"
   ]
  },
  {
   "cell_type": "code",
   "execution_count": 61,
   "metadata": {},
   "outputs": [
    {
     "output_type": "execute_result",
     "data": {
      "text/plain": "0.6105516977095278"
     },
     "metadata": {},
     "execution_count": 61
    }
   ],
   "source": [
    "# Calculated the balanced accuracy score\n",
    "balanced_accuracy_score(y_test, y_pred)"
   ]
  },
  {
   "cell_type": "code",
   "execution_count": 62,
   "metadata": {},
   "outputs": [
    {
     "output_type": "execute_result",
     "data": {
      "text/plain": "array([[  69,   32],\n       [9915, 7189]])"
     },
     "metadata": {},
     "execution_count": 62
    }
   ],
   "source": [
    "# Display the confusion matrix\n",
    "y_pred = model.predict(X_test)\n",
    "confusion_matrix(y_test, y_pred)"
   ]
  },
  {
   "cell_type": "code",
   "execution_count": 63,
   "metadata": {
    "tags": []
   },
   "outputs": [
    {
     "output_type": "stream",
     "name": "stdout",
     "text": "pre       rec       spe        f1       geo       iba       sup\n\n  high_risk       0.01      0.68      0.42      0.01      0.54      0.29       101\n   low_risk       1.00      0.42      0.68      0.59      0.54      0.28     17104\n\navg / total       0.99      0.42      0.68      0.59      0.54      0.28     17205\n\n"
    }
   ],
   "source": [
    "# Print the imbalanced classification report\n",
    "print(classification_report_imbalanced(y_test, y_pred))\n"
   ]
  },
  {
   "cell_type": "markdown",
   "metadata": {},
   "source": [
    "# Combination (Over and Under) Sampling\n",
    "\n",
    "In this section, you will test a combination over- and under-sampling algorithm to determine if the algorithm results in the best performance compared to the other sampling algorithms above. You will resample the data using the SMOTEENN algorithm and complete the following steps:\n",
    "\n",
    "1. View the count of the target classes using `Counter` from the collections library. \n",
    "3. Use the resampled data to train a logistic regression model.\n",
    "3. Calculate the balanced accuracy score from sklearn.metrics.\n",
    "4. Print the confusion matrix from sklearn.metrics.\n",
    "5. Generate a classication report using the `imbalanced_classification_report` from imbalanced-learn.\n",
    "\n",
    "Note: Use a random state of 1 for each sampling algorithm to ensure consistency between tests"
   ]
  },
  {
   "cell_type": "code",
   "execution_count": 64,
   "metadata": {},
   "outputs": [
    {
     "output_type": "execute_result",
     "data": {
      "text/plain": "Counter({'high_risk': 68458, 'low_risk': 62022})"
     },
     "metadata": {},
     "execution_count": 64
    }
   ],
   "source": [
    "# Resample the training data with SMOTEENN\n",
    "from imblearn.combine import SMOTEENN\n",
    "\n",
    "smote_enn = SMOTEENN(random_state=1)\n",
    "X_resampled2, y_resampled2 = smote_enn.fit_resample(X, y)\n",
    "Counter(y_resampled2)"
   ]
  },
  {
   "cell_type": "code",
   "execution_count": 65,
   "metadata": {},
   "outputs": [
    {
     "output_type": "execute_result",
     "data": {
      "text/plain": "LogisticRegression(random_state=1)"
     },
     "metadata": {},
     "execution_count": 65
    }
   ],
   "source": [
    "# Train the Logistic Regression model using the resampled data\n",
    "model = LogisticRegression(solver='lbfgs', random_state=1)\n",
    "model.fit(X_resampled2, y_resampled2)"
   ]
  },
  {
   "cell_type": "code",
   "execution_count": 66,
   "metadata": {},
   "outputs": [
    {
     "output_type": "execute_result",
     "data": {
      "text/plain": "0.5517396775926424"
     },
     "metadata": {},
     "execution_count": 66
    }
   ],
   "source": [
    "# Calculated the balanced accuracy score\n",
    "balanced_accuracy_score(y_test, y_pred)"
   ]
  },
  {
   "cell_type": "code",
   "execution_count": 67,
   "metadata": {},
   "outputs": [
    {
     "output_type": "execute_result",
     "data": {
      "text/plain": "array([[  73,   28],\n       [7341, 9763]])"
     },
     "metadata": {},
     "execution_count": 67
    }
   ],
   "source": [
    "# Display the confusion matrix\n",
    "y_pred = model.predict(X_test)\n",
    "confusion_matrix(y_test, y_pred)"
   ]
  },
  {
   "cell_type": "code",
   "execution_count": 68,
   "metadata": {
    "tags": []
   },
   "outputs": [
    {
     "output_type": "stream",
     "name": "stdout",
     "text": "pre       rec       spe        f1       geo       iba       sup\n\n  high_risk       0.01      0.72      0.57      0.02      0.64      0.42       101\n   low_risk       1.00      0.57      0.72      0.73      0.64      0.41     17104\n\navg / total       0.99      0.57      0.72      0.72      0.64      0.41     17205\n\n"
    }
   ],
   "source": [
    "# Print the imbalanced classification report\n",
    "print(classification_report_imbalanced(y_test, y_pred))"
   ]
  },
  {
   "cell_type": "code",
   "execution_count": null,
   "metadata": {},
   "outputs": [],
   "source": []
  }
 ],
 "metadata": {
  "kernelspec": {
   "display_name": "mlenv",
   "language": "python",
   "name": "mlenv"
  },
  "language_info": {
   "codemirror_mode": {
    "name": "ipython",
    "version": 3
   },
   "file_extension": ".py",
   "mimetype": "text/x-python",
   "name": "python",
   "nbconvert_exporter": "python",
   "pygments_lexer": "ipython3",
   "version": "3.7.7-final"
  }
 },
 "nbformat": 4,
 "nbformat_minor": 2
}